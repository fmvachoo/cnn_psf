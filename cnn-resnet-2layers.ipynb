{
 "cells": [
  {
   "cell_type": "markdown",
   "id": "cebbef58",
   "metadata": {
    "id": "view-in-github",
    "papermill": {
     "duration": 0.003409,
     "end_time": "2025-06-10T22:10:17.973365",
     "exception": false,
     "start_time": "2025-06-10T22:10:17.969956",
     "status": "completed"
    },
    "tags": []
   },
   "source": [
    "<a href=\"https://colab.research.google.com/github/hero-hub/cnn_psf/blob/main/cnn_resnet_2layers.ipynb\" target=\"_parent\"><img src=\"https://colab.research.google.com/assets/colab-badge.svg\" alt=\"Open In Colab\"/></a>"
   ]
  },
  {
   "cell_type": "markdown",
   "id": "aa43d75a",
   "metadata": {
    "id": "kiO2S2QU6NAv",
    "papermill": {
     "duration": 0.002645,
     "end_time": "2025-06-10T22:10:17.979009",
     "exception": false,
     "start_time": "2025-06-10T22:10:17.976364",
     "status": "completed"
    },
    "tags": []
   },
   "source": [
    "# Импорт библиотек"
   ]
  },
  {
   "cell_type": "code",
   "execution_count": 1,
   "id": "1c06272a",
   "metadata": {
    "execution": {
     "iopub.execute_input": "2025-06-10T22:10:17.985302Z",
     "iopub.status.busy": "2025-06-10T22:10:17.985045Z",
     "iopub.status.idle": "2025-06-10T22:10:33.885522Z",
     "shell.execute_reply": "2025-06-10T22:10:33.884923Z"
    },
    "id": "_N_4xPrBWuTd",
    "papermill": {
     "duration": 15.905158,
     "end_time": "2025-06-10T22:10:33.886895",
     "exception": false,
     "start_time": "2025-06-10T22:10:17.981737",
     "status": "completed"
    },
    "tags": []
   },
   "outputs": [
    {
     "name": "stderr",
     "output_type": "stream",
     "text": [
      "2025-06-10 22:10:19.969764: E external/local_xla/xla/stream_executor/cuda/cuda_fft.cc:477] Unable to register cuFFT factory: Attempting to register factory for plugin cuFFT when one has already been registered\n",
      "WARNING: All log messages before absl::InitializeLog() is called are written to STDERR\n",
      "E0000 00:00:1749593420.182953      19 cuda_dnn.cc:8310] Unable to register cuDNN factory: Attempting to register factory for plugin cuDNN when one has already been registered\n",
      "E0000 00:00:1749593420.243836      19 cuda_blas.cc:1418] Unable to register cuBLAS factory: Attempting to register factory for plugin cuBLAS when one has already been registered\n"
     ]
    }
   ],
   "source": [
    "import os\n",
    "import tensorflow as tf\n",
    "from tensorflow.keras.applications import ResNet50\n",
    "from tensorflow.keras import layers, models\n",
    "from PIL import Image\n",
    "import numpy as np\n",
    "import matplotlib.pyplot as plt\n",
    "from sklearn.model_selection import train_test_split\n",
    "import zipfile\n",
    "import sys"
   ]
  },
  {
   "cell_type": "markdown",
   "id": "5c960769",
   "metadata": {
    "id": "f5oNXe706Ykc",
    "papermill": {
     "duration": 0.002631,
     "end_time": "2025-06-10T22:10:33.892577",
     "exception": false,
     "start_time": "2025-06-10T22:10:33.889946",
     "status": "completed"
    },
    "tags": []
   },
   "source": [
    "# Загрузка и подготовка данных\n"
   ]
  },
  {
   "cell_type": "code",
   "execution_count": 2,
   "id": "6182ce15",
   "metadata": {
    "execution": {
     "iopub.execute_input": "2025-06-10T22:10:33.898986Z",
     "iopub.status.busy": "2025-06-10T22:10:33.898573Z",
     "iopub.status.idle": "2025-06-10T22:10:33.909931Z",
     "shell.execute_reply": "2025-06-10T22:10:33.909161Z"
    },
    "id": "uUS-gzyYZQxQ",
    "outputId": "8efe73f4-4702-47a6-b042-20f7f7eaa656",
    "papermill": {
     "duration": 0.015803,
     "end_time": "2025-06-10T22:10:33.910999",
     "exception": false,
     "start_time": "2025-06-10T22:10:33.895196",
     "status": "completed"
    },
    "tags": []
   },
   "outputs": [
    {
     "name": "stdout",
     "output_type": "stream",
     "text": [
      "['/kaggle/input/toolss', '/kaggle/working', '/kaggle/lib/kagglegym', '/kaggle/lib', '/usr/lib/python311.zip', '/usr/lib/python3.11', '/usr/lib/python3.11/lib-dynload', '', '/usr/local/lib/python3.11/dist-packages', '/usr/lib/python3/dist-packages', '/usr/local/lib/python3.11/dist-packages/IPython/extensions', '/usr/local/lib/python3.11/dist-packages/setuptools/_vendor', '/root/.ipython']\n",
      "Модуль успешно импортирован!\n"
     ]
    }
   ],
   "source": [
    "# Путь к папке, где находится library_help_tools.py\n",
    "sys.path.insert(0, '/kaggle/input/toolss')\n",
    "\n",
    "print(sys.path)\n",
    "\n",
    "try:\n",
    "    import library_help_tools as lht\n",
    "    print(\"Модуль успешно импортирован!\")\n",
    "except ModuleNotFoundError as e:\n",
    "    print(f\"Ошибка импорта: {e}\")\n",
    "\n",
    "# Максимальная абсолютная ошибка\n",
    "def max_error(y_true, y_pred):\n",
    "    y_true = tf.cast(y_true, tf.float32)  # Приводим y_true к float32\n",
    "    y_pred = tf.cast(y_pred, tf.float32)  # Приводим y_pred к float32\n",
    "    return tf.reduce_max(tf.abs(y_true - y_pred))"
   ]
  },
  {
   "cell_type": "code",
   "execution_count": 3,
   "id": "0e4e5f61",
   "metadata": {
    "execution": {
     "iopub.execute_input": "2025-06-10T22:10:33.917234Z",
     "iopub.status.busy": "2025-06-10T22:10:33.916994Z",
     "iopub.status.idle": "2025-06-10T22:11:37.056919Z",
     "shell.execute_reply": "2025-06-10T22:11:37.056147Z"
    },
    "id": "Wtd-mnK2ZV4q",
    "outputId": "be0dc2cc-a136-4a3c-cabd-a819a2270ece",
    "papermill": {
     "duration": 63.146516,
     "end_time": "2025-06-10T22:11:37.060277",
     "exception": false,
     "start_time": "2025-06-10T22:10:33.913761",
     "status": "completed"
    },
    "tags": []
   },
   "outputs": [
    {
     "name": "stdout",
     "output_type": "stream",
     "text": [
      "['__notebook__.ipynb']\n",
      "Количество загруженных изображений - 16090\n"
     ]
    }
   ],
   "source": [
    "zip_directory = '/kaggle/input/256-16090-20x/256_16090_20x/'\n",
    "print(os.listdir())\n",
    "\n",
    "def load_images_from_directory(dir_read):\n",
    "    images = []  # Список для хранения изображений\n",
    "    list_file = os.listdir(dir_read)  # Получаем список файлов в директории\n",
    "\n",
    "    for cur_file in list_file:\n",
    "        cur_file_path = os.path.join(dir_read, cur_file)\n",
    "        try:\n",
    "            img = Image.open(cur_file_path)\n",
    "            images.append(img)\n",
    "        except Exception as e:\n",
    "            print(f\"Ошибка при чтении файла {cur_file_path}: {e}\")\n",
    "\n",
    "    print(f'Количество загруженных изображений - {len(images)}')\n",
    "    return images\n",
    "\n",
    "images = load_images_from_directory(zip_directory)"
   ]
  },
  {
   "cell_type": "code",
   "execution_count": 4,
   "id": "ef499ef1",
   "metadata": {
    "execution": {
     "iopub.execute_input": "2025-06-10T22:11:37.067053Z",
     "iopub.status.busy": "2025-06-10T22:11:37.066826Z",
     "iopub.status.idle": "2025-06-10T22:11:37.070540Z",
     "shell.execute_reply": "2025-06-10T22:11:37.069849Z"
    },
    "id": "2oi9Zf9kZXhF",
    "papermill": {
     "duration": 0.008425,
     "end_time": "2025-06-10T22:11:37.071651",
     "exception": false,
     "start_time": "2025-06-10T22:11:37.063226",
     "status": "completed"
    },
    "tags": []
   },
   "outputs": [],
   "source": [
    "# Создаем словарь с параметрами\n",
    "GVD = dict(\n",
    "    DATA_DIR = zip_directory,\n",
    "    FILE_FORMAT = \".png\",\n",
    "    IMG_SIZE = 256,\n",
    "    TEST_SPLIT = 0.2,\n",
    "    VALIDATION_SPLIT = 0.2,\n",
    "    SEED = 123\n",
    ")"
   ]
  },
  {
   "cell_type": "code",
   "execution_count": 5,
   "id": "d0da7679",
   "metadata": {
    "execution": {
     "iopub.execute_input": "2025-06-10T22:11:37.078581Z",
     "iopub.status.busy": "2025-06-10T22:11:37.078157Z",
     "iopub.status.idle": "2025-06-10T22:12:25.546946Z",
     "shell.execute_reply": "2025-06-10T22:12:25.546158Z"
    },
    "id": "BEoIf--hWyW5",
    "papermill": {
     "duration": 48.474047,
     "end_time": "2025-06-10T22:12:25.548507",
     "exception": false,
     "start_time": "2025-06-10T22:11:37.074460",
     "status": "completed"
    },
    "tags": []
   },
   "outputs": [
    {
     "name": "stderr",
     "output_type": "stream",
     "text": [
      "I0000 00:00:1749593498.596155      19 gpu_device.cc:2022] Created device /job:localhost/replica:0/task:0/device:GPU:0 with 13942 MB memory:  -> device: 0, name: Tesla T4, pci bus id: 0000:00:04.0, compute capability: 7.5\n",
      "I0000 00:00:1749593498.596794      19 gpu_device.cc:2022] Created device /job:localhost/replica:0/task:0/device:GPU:1 with 13942 MB memory:  -> device: 1, name: Tesla T4, pci bus id: 0000:00:05.0, compute capability: 7.5\n"
     ]
    }
   ],
   "source": [
    "# Загрузка данных\n",
    "ts_images, ts_labels = lht.load_data(lht.list_files(GVD['DATA_DIR'], GVD['FILE_FORMAT']))\n",
    "\n",
    "# Преобразование в numpy массивы\n",
    "ts_images = np.array(ts_images)\n",
    "ts_labels = np.array(ts_labels)\n",
    "\n",
    "# Разделение данных\n",
    "X_train, X_test, y_train, y_test = train_test_split(\n",
    "    ts_images, ts_labels, test_size=0.2, random_state=42, shuffle=True)\n",
    "\n",
    "X_train, X_val, y_train, y_val = train_test_split(\n",
    "    X_train, y_train, test_size=0.2, random_state=42)\n",
    "\n",
    "# Преобразование в tf.data.Dataset\n",
    "train_ds = tf.data.Dataset.from_tensor_slices((X_train, y_train))\n",
    "train_ds = train_ds.shuffle(buffer_size=1024).batch(32)\n",
    "\n",
    "val_ds = tf.data.Dataset.from_tensor_slices((X_val, y_val)).batch(32)\n",
    "test_ds = tf.data.Dataset.from_tensor_slices((X_test, y_test)).batch(32)"
   ]
  },
  {
   "cell_type": "markdown",
   "id": "f10943e6",
   "metadata": {
    "id": "v0I_cF1t_Ger",
    "papermill": {
     "duration": 0.002993,
     "end_time": "2025-06-10T22:12:25.554857",
     "exception": false,
     "start_time": "2025-06-10T22:12:25.551864",
     "status": "completed"
    },
    "tags": []
   },
   "source": [
    "# Создание модели"
   ]
  },
  {
   "cell_type": "code",
   "execution_count": 6,
   "id": "04a29c93",
   "metadata": {
    "execution": {
     "iopub.execute_input": "2025-06-10T22:12:25.561982Z",
     "iopub.status.busy": "2025-06-10T22:12:25.561398Z",
     "iopub.status.idle": "2025-06-10T22:12:27.636156Z",
     "shell.execute_reply": "2025-06-10T22:12:27.635573Z"
    },
    "id": "oLrpnkl-W2iW",
    "papermill": {
     "duration": 2.079796,
     "end_time": "2025-06-10T22:12:27.637521",
     "exception": false,
     "start_time": "2025-06-10T22:12:25.557725",
     "status": "completed"
    },
    "tags": []
   },
   "outputs": [],
   "source": [
    "# Входной слой\n",
    "inputs = layers.Input(shape=(256, 256, 1))  #128x128 и ЧБ (1 канал)\n",
    "\n",
    "# Предварительные сверточные слои\n",
    "x = layers.Conv2D(64, 3, activation='gelu', padding='same')(inputs)\n",
    "x = layers.Conv2D(128, 5, activation='gelu', padding='same')(x)\n",
    "\n",
    "# ResNet50\n",
    "resnet = ResNet50(\n",
    "    include_top=False,\n",
    "    weights=None,\n",
    "    input_tensor=x,  # Передаем выход предыдущего слоя\n",
    "    pooling='avg'  # Глобальное усреднение\n",
    ")\n",
    "\n",
    "# Выходной слой\n",
    "outputs = layers.Dense(2, activation='linear')(resnet.output)\n",
    "\n",
    "# Создание модели\n",
    "model = models.Model(inputs=inputs, outputs=outputs)\n",
    "\n",
    "# Компиляция модели\n",
    "model.compile(\n",
    "    optimizer='adam',\n",
    "    loss='mse',\n",
    "    metrics=[\n",
    "        tf.keras.metrics.RootMeanSquaredError(name='rmse'),\n",
    "        max_error\n",
    "    ]\n",
    ")"
   ]
  },
  {
   "cell_type": "markdown",
   "id": "99e55c2a",
   "metadata": {
    "id": "D3jdqOtc7Xwo",
    "papermill": {
     "duration": 0.00281,
     "end_time": "2025-06-10T22:12:27.643560",
     "exception": false,
     "start_time": "2025-06-10T22:12:27.640750",
     "status": "completed"
    },
    "tags": []
   },
   "source": [
    "# Обучение модели"
   ]
  },
  {
   "cell_type": "code",
   "execution_count": 7,
   "id": "ad7bc66b",
   "metadata": {
    "execution": {
     "iopub.execute_input": "2025-06-10T22:12:27.649911Z",
     "iopub.status.busy": "2025-06-10T22:12:27.649716Z",
     "iopub.status.idle": "2025-06-10T23:24:31.279698Z",
     "shell.execute_reply": "2025-06-10T23:24:31.278905Z"
    },
    "id": "LFaeDti8W5RN",
    "outputId": "75a0568b-27ca-4871-fd80-369261d235ad",
    "papermill": {
     "duration": 4323.79281,
     "end_time": "2025-06-10T23:24:31.439183",
     "exception": false,
     "start_time": "2025-06-10T22:12:27.646373",
     "status": "completed"
    },
    "tags": []
   },
   "outputs": [
    {
     "name": "stdout",
     "output_type": "stream",
     "text": [
      "Epoch 1/12\n"
     ]
    },
    {
     "name": "stderr",
     "output_type": "stream",
     "text": [
      "WARNING: All log messages before absl::InitializeLog() is called are written to STDERR\n",
      "I0000 00:00:1749593597.994252      62 service.cc:148] XLA service 0x7c78ec012940 initialized for platform CUDA (this does not guarantee that XLA will be used). Devices:\n",
      "I0000 00:00:1749593597.995456      62 service.cc:156]   StreamExecutor device (0): Tesla T4, Compute Capability 7.5\n",
      "I0000 00:00:1749593597.995479      62 service.cc:156]   StreamExecutor device (1): Tesla T4, Compute Capability 7.5\n",
      "I0000 00:00:1749593602.530730      62 cuda_dnn.cc:529] Loaded cuDNN version 90300\n",
      "2025-06-10 22:13:30.422780: E external/local_xla/xla/service/slow_operation_alarm.cc:65] Trying algorithm eng11{k2=3,k3=0} for conv (f32[32,128,256,256]{3,2,1,0}, u8[0]{0}) custom-call(f32[32,64,256,256]{3,2,1,0}, f32[128,64,5,5]{3,2,1,0}, f32[128]{0}), window={size=5x5 pad=2_2x2_2}, dim_labels=bf01_oi01->bf01, custom_call_target=\"__cudnn$convBiasActivationForward\", backend_config={\"cudnn_conv_backend_config\":{\"activation_mode\":\"kNone\",\"conv_result_scale\":1,\"leakyrelu_alpha\":0,\"side_input_scale\":0},\"force_earliest_schedule\":false,\"operation_queue_id\":\"0\",\"wait_on_operation_queues\":[]} is taking a while...\n",
      "2025-06-10 22:13:30.636853: E external/local_xla/xla/service/slow_operation_alarm.cc:133] The operation took 1.214189866s\n",
      "Trying algorithm eng11{k2=3,k3=0} for conv (f32[32,128,256,256]{3,2,1,0}, u8[0]{0}) custom-call(f32[32,64,256,256]{3,2,1,0}, f32[128,64,5,5]{3,2,1,0}, f32[128]{0}), window={size=5x5 pad=2_2x2_2}, dim_labels=bf01_oi01->bf01, custom_call_target=\"__cudnn$convBiasActivationForward\", backend_config={\"cudnn_conv_backend_config\":{\"activation_mode\":\"kNone\",\"conv_result_scale\":1,\"leakyrelu_alpha\":0,\"side_input_scale\":0},\"force_earliest_schedule\":false,\"operation_queue_id\":\"0\",\"wait_on_operation_queues\":[]} is taking a while...\n",
      "2025-06-10 22:13:31.637269: E external/local_xla/xla/service/slow_operation_alarm.cc:65] Trying algorithm eng11{k2=1,k3=0} for conv (f32[32,128,256,256]{3,2,1,0}, u8[0]{0}) custom-call(f32[32,64,256,256]{3,2,1,0}, f32[128,64,5,5]{3,2,1,0}, f32[128]{0}), window={size=5x5 pad=2_2x2_2}, dim_labels=bf01_oi01->bf01, custom_call_target=\"__cudnn$convBiasActivationForward\", backend_config={\"cudnn_conv_backend_config\":{\"activation_mode\":\"kNone\",\"conv_result_scale\":1,\"leakyrelu_alpha\":0,\"side_input_scale\":0},\"force_earliest_schedule\":false,\"operation_queue_id\":\"0\",\"wait_on_operation_queues\":[]} is taking a while...\n",
      "2025-06-10 22:13:31.748222: E external/local_xla/xla/service/slow_operation_alarm.cc:133] The operation took 1.11120571s\n",
      "Trying algorithm eng11{k2=1,k3=0} for conv (f32[32,128,256,256]{3,2,1,0}, u8[0]{0}) custom-call(f32[32,64,256,256]{3,2,1,0}, f32[128,64,5,5]{3,2,1,0}, f32[128]{0}), window={size=5x5 pad=2_2x2_2}, dim_labels=bf01_oi01->bf01, custom_call_target=\"__cudnn$convBiasActivationForward\", backend_config={\"cudnn_conv_backend_config\":{\"activation_mode\":\"kNone\",\"conv_result_scale\":1,\"leakyrelu_alpha\":0,\"side_input_scale\":0},\"force_earliest_schedule\":false,\"operation_queue_id\":\"0\",\"wait_on_operation_queues\":[]} is taking a while...\n",
      "2025-06-10 22:13:44.362539: E external/local_xla/xla/service/slow_operation_alarm.cc:65] Trying algorithm eng2{k2=2,k3=0} for conv (f32[32,128,262,262]{3,2,1,0}, u8[0]{0}) custom-call(f32[32,64,128,128]{3,2,1,0}, f32[64,128,7,7]{3,2,1,0}), window={size=7x7 stride=2x2}, dim_labels=bf01_oi01->bf01, custom_call_target=\"__cudnn$convBackwardInput\", backend_config={\"cudnn_conv_backend_config\":{\"activation_mode\":\"kNone\",\"conv_result_scale\":1,\"leakyrelu_alpha\":0,\"side_input_scale\":0},\"force_earliest_schedule\":false,\"operation_queue_id\":\"0\",\"wait_on_operation_queues\":[]} is taking a while...\n",
      "2025-06-10 22:13:44.423084: E external/local_xla/xla/service/slow_operation_alarm.cc:133] The operation took 1.060663529s\n",
      "Trying algorithm eng2{k2=2,k3=0} for conv (f32[32,128,262,262]{3,2,1,0}, u8[0]{0}) custom-call(f32[32,64,128,128]{3,2,1,0}, f32[64,128,7,7]{3,2,1,0}), window={size=7x7 stride=2x2}, dim_labels=bf01_oi01->bf01, custom_call_target=\"__cudnn$convBackwardInput\", backend_config={\"cudnn_conv_backend_config\":{\"activation_mode\":\"kNone\",\"conv_result_scale\":1,\"leakyrelu_alpha\":0,\"side_input_scale\":0},\"force_earliest_schedule\":false,\"operation_queue_id\":\"0\",\"wait_on_operation_queues\":[]} is taking a while...\n",
      "2025-06-10 22:13:48.135089: E external/local_xla/xla/service/slow_operation_alarm.cc:65] Trying algorithm eng25{k2=2,k3=0} for conv (f32[32,64,256,256]{3,2,1,0}, u8[0]{0}) custom-call(f32[32,128,256,256]{3,2,1,0}, f32[128,64,5,5]{3,2,1,0}), window={size=5x5 pad=2_2x2_2}, dim_labels=bf01_oi01->bf01, custom_call_target=\"__cudnn$convBackwardInput\", backend_config={\"cudnn_conv_backend_config\":{\"activation_mode\":\"kNone\",\"conv_result_scale\":1,\"leakyrelu_alpha\":0,\"side_input_scale\":0},\"force_earliest_schedule\":false,\"operation_queue_id\":\"0\",\"wait_on_operation_queues\":[]} is taking a while...\n",
      "2025-06-10 22:13:48.184419: E external/local_xla/xla/service/slow_operation_alarm.cc:133] The operation took 1.049430584s\n",
      "Trying algorithm eng25{k2=2,k3=0} for conv (f32[32,64,256,256]{3,2,1,0}, u8[0]{0}) custom-call(f32[32,128,256,256]{3,2,1,0}, f32[128,64,5,5]{3,2,1,0}), window={size=5x5 pad=2_2x2_2}, dim_labels=bf01_oi01->bf01, custom_call_target=\"__cudnn$convBackwardInput\", backend_config={\"cudnn_conv_backend_config\":{\"activation_mode\":\"kNone\",\"conv_result_scale\":1,\"leakyrelu_alpha\":0,\"side_input_scale\":0},\"force_earliest_schedule\":false,\"operation_queue_id\":\"0\",\"wait_on_operation_queues\":[]} is taking a while...\n",
      "2025-06-10 22:13:50.906945: E external/local_xla/xla/service/slow_operation_alarm.cc:65] Trying algorithm eng21{k2=2,k4=3,k5=0,k6=0,k7=0} for conv (f32[128,64,5,5]{3,2,1,0}, u8[0]{0}) custom-call(f32[32,64,256,256]{3,2,1,0}, f32[32,128,256,256]{3,2,1,0}), window={size=5x5 pad=2_2x2_2}, dim_labels=bf01_oi01->bf01, custom_call_target=\"__cudnn$convBackwardFilter\", backend_config={\"cudnn_conv_backend_config\":{\"activation_mode\":\"kNone\",\"conv_result_scale\":1,\"leakyrelu_alpha\":0,\"side_input_scale\":0},\"force_earliest_schedule\":false,\"operation_queue_id\":\"0\",\"wait_on_operation_queues\":[]} is taking a while...\n",
      "2025-06-10 22:13:51.036337: E external/local_xla/xla/service/slow_operation_alarm.cc:133] The operation took 1.129493468s\n",
      "Trying algorithm eng21{k2=2,k4=3,k5=0,k6=0,k7=0} for conv (f32[128,64,5,5]{3,2,1,0}, u8[0]{0}) custom-call(f32[32,64,256,256]{3,2,1,0}, f32[32,128,256,256]{3,2,1,0}), window={size=5x5 pad=2_2x2_2}, dim_labels=bf01_oi01->bf01, custom_call_target=\"__cudnn$convBackwardFilter\", backend_config={\"cudnn_conv_backend_config\":{\"activation_mode\":\"kNone\",\"conv_result_scale\":1,\"leakyrelu_alpha\":0,\"side_input_scale\":0},\"force_earliest_schedule\":false,\"operation_queue_id\":\"0\",\"wait_on_operation_queues\":[]} is taking a while...\n",
      "2025-06-10 22:13:52.036524: E external/local_xla/xla/service/slow_operation_alarm.cc:65] Trying algorithm eng1{k2=8,k3=0} for conv (f32[128,64,5,5]{3,2,1,0}, u8[0]{0}) custom-call(f32[32,64,256,256]{3,2,1,0}, f32[32,128,256,256]{3,2,1,0}), window={size=5x5 pad=2_2x2_2}, dim_labels=bf01_oi01->bf01, custom_call_target=\"__cudnn$convBackwardFilter\", backend_config={\"cudnn_conv_backend_config\":{\"activation_mode\":\"kNone\",\"conv_result_scale\":1,\"leakyrelu_alpha\":0,\"side_input_scale\":0},\"force_earliest_schedule\":false,\"operation_queue_id\":\"0\",\"wait_on_operation_queues\":[]} is taking a while...\n",
      "2025-06-10 22:13:52.358230: E external/local_xla/xla/service/slow_operation_alarm.cc:133] The operation took 1.321801354s\n",
      "Trying algorithm eng1{k2=8,k3=0} for conv (f32[128,64,5,5]{3,2,1,0}, u8[0]{0}) custom-call(f32[32,64,256,256]{3,2,1,0}, f32[32,128,256,256]{3,2,1,0}), window={size=5x5 pad=2_2x2_2}, dim_labels=bf01_oi01->bf01, custom_call_target=\"__cudnn$convBackwardFilter\", backend_config={\"cudnn_conv_backend_config\":{\"activation_mode\":\"kNone\",\"conv_result_scale\":1,\"leakyrelu_alpha\":0,\"side_input_scale\":0},\"force_earliest_schedule\":false,\"operation_queue_id\":\"0\",\"wait_on_operation_queues\":[]} is taking a while...\n",
      "2025-06-10 22:13:53.358417: E external/local_xla/xla/service/slow_operation_alarm.cc:65] Trying algorithm eng20{k2=8,k3=0} for conv (f32[128,64,5,5]{3,2,1,0}, u8[0]{0}) custom-call(f32[32,64,256,256]{3,2,1,0}, f32[32,128,256,256]{3,2,1,0}), window={size=5x5 pad=2_2x2_2}, dim_labels=bf01_oi01->bf01, custom_call_target=\"__cudnn$convBackwardFilter\", backend_config={\"cudnn_conv_backend_config\":{\"activation_mode\":\"kNone\",\"conv_result_scale\":1,\"leakyrelu_alpha\":0,\"side_input_scale\":0},\"force_earliest_schedule\":false,\"operation_queue_id\":\"0\",\"wait_on_operation_queues\":[]} is taking a while...\n",
      "2025-06-10 22:13:53.627724: E external/local_xla/xla/service/slow_operation_alarm.cc:133] The operation took 1.269397138s\n",
      "Trying algorithm eng20{k2=8,k3=0} for conv (f32[128,64,5,5]{3,2,1,0}, u8[0]{0}) custom-call(f32[32,64,256,256]{3,2,1,0}, f32[32,128,256,256]{3,2,1,0}), window={size=5x5 pad=2_2x2_2}, dim_labels=bf01_oi01->bf01, custom_call_target=\"__cudnn$convBackwardFilter\", backend_config={\"cudnn_conv_backend_config\":{\"activation_mode\":\"kNone\",\"conv_result_scale\":1,\"leakyrelu_alpha\":0,\"side_input_scale\":0},\"force_earliest_schedule\":false,\"operation_queue_id\":\"0\",\"wait_on_operation_queues\":[]} is taking a while...\n",
      "2025-06-10 22:13:56.511702: E external/local_xla/xla/service/slow_operation_alarm.cc:65] Trying algorithm eng1{k2=6,k3=0} for conv (f32[128,64,5,5]{3,2,1,0}, u8[0]{0}) custom-call(f32[32,64,256,256]{3,2,1,0}, f32[32,128,256,256]{3,2,1,0}), window={size=5x5 pad=2_2x2_2}, dim_labels=bf01_oi01->bf01, custom_call_target=\"__cudnn$convBackwardFilter\", backend_config={\"cudnn_conv_backend_config\":{\"activation_mode\":\"kNone\",\"conv_result_scale\":1,\"leakyrelu_alpha\":0,\"side_input_scale\":0},\"force_earliest_schedule\":false,\"operation_queue_id\":\"0\",\"wait_on_operation_queues\":[]} is taking a while...\n",
      "2025-06-10 22:13:57.020386: E external/local_xla/xla/service/slow_operation_alarm.cc:133] The operation took 1.508777529s\n",
      "Trying algorithm eng1{k2=6,k3=0} for conv (f32[128,64,5,5]{3,2,1,0}, u8[0]{0}) custom-call(f32[32,64,256,256]{3,2,1,0}, f32[32,128,256,256]{3,2,1,0}), window={size=5x5 pad=2_2x2_2}, dim_labels=bf01_oi01->bf01, custom_call_target=\"__cudnn$convBackwardFilter\", backend_config={\"cudnn_conv_backend_config\":{\"activation_mode\":\"kNone\",\"conv_result_scale\":1,\"leakyrelu_alpha\":0,\"side_input_scale\":0},\"force_earliest_schedule\":false,\"operation_queue_id\":\"0\",\"wait_on_operation_queues\":[]} is taking a while...\n",
      "2025-06-10 22:13:58.020598: E external/local_xla/xla/service/slow_operation_alarm.cc:65] Trying algorithm eng20{k2=6,k3=0} for conv (f32[128,64,5,5]{3,2,1,0}, u8[0]{0}) custom-call(f32[32,64,256,256]{3,2,1,0}, f32[32,128,256,256]{3,2,1,0}), window={size=5x5 pad=2_2x2_2}, dim_labels=bf01_oi01->bf01, custom_call_target=\"__cudnn$convBackwardFilter\", backend_config={\"cudnn_conv_backend_config\":{\"activation_mode\":\"kNone\",\"conv_result_scale\":1,\"leakyrelu_alpha\":0,\"side_input_scale\":0},\"force_earliest_schedule\":false,\"operation_queue_id\":\"0\",\"wait_on_operation_queues\":[]} is taking a while...\n",
      "2025-06-10 22:13:58.525309: E external/local_xla/xla/service/slow_operation_alarm.cc:133] The operation took 1.504809003s\n",
      "Trying algorithm eng20{k2=6,k3=0} for conv (f32[128,64,5,5]{3,2,1,0}, u8[0]{0}) custom-call(f32[32,64,256,256]{3,2,1,0}, f32[32,128,256,256]{3,2,1,0}), window={size=5x5 pad=2_2x2_2}, dim_labels=bf01_oi01->bf01, custom_call_target=\"__cudnn$convBackwardFilter\", backend_config={\"cudnn_conv_backend_config\":{\"activation_mode\":\"kNone\",\"conv_result_scale\":1,\"leakyrelu_alpha\":0,\"side_input_scale\":0},\"force_earliest_schedule\":false,\"operation_queue_id\":\"0\",\"wait_on_operation_queues\":[]} is taking a while...\n",
      "2025-06-10 22:13:59.525508: E external/local_xla/xla/service/slow_operation_alarm.cc:65] Trying algorithm eng20{k2=1,k3=0} for conv (f32[128,64,5,5]{3,2,1,0}, u8[0]{0}) custom-call(f32[32,64,256,256]{3,2,1,0}, f32[32,128,256,256]{3,2,1,0}), window={size=5x5 pad=2_2x2_2}, dim_labels=bf01_oi01->bf01, custom_call_target=\"__cudnn$convBackwardFilter\", backend_config={\"cudnn_conv_backend_config\":{\"activation_mode\":\"kNone\",\"conv_result_scale\":1,\"leakyrelu_alpha\":0,\"side_input_scale\":0},\"force_earliest_schedule\":false,\"operation_queue_id\":\"0\",\"wait_on_operation_queues\":[]} is taking a while...\n",
      "2025-06-10 22:13:59.749778: E external/local_xla/xla/service/slow_operation_alarm.cc:133] The operation took 1.224370199s\n",
      "Trying algorithm eng20{k2=1,k3=0} for conv (f32[128,64,5,5]{3,2,1,0}, u8[0]{0}) custom-call(f32[32,64,256,256]{3,2,1,0}, f32[32,128,256,256]{3,2,1,0}), window={size=5x5 pad=2_2x2_2}, dim_labels=bf01_oi01->bf01, custom_call_target=\"__cudnn$convBackwardFilter\", backend_config={\"cudnn_conv_backend_config\":{\"activation_mode\":\"kNone\",\"conv_result_scale\":1,\"leakyrelu_alpha\":0,\"side_input_scale\":0},\"force_earliest_schedule\":false,\"operation_queue_id\":\"0\",\"wait_on_operation_queues\":[]} is taking a while...\n",
      "2025-06-10 22:14:00.749955: E external/local_xla/xla/service/slow_operation_alarm.cc:65] Trying algorithm eng1{k2=2,k3=0} for conv (f32[128,64,5,5]{3,2,1,0}, u8[0]{0}) custom-call(f32[32,64,256,256]{3,2,1,0}, f32[32,128,256,256]{3,2,1,0}), window={size=5x5 pad=2_2x2_2}, dim_labels=bf01_oi01->bf01, custom_call_target=\"__cudnn$convBackwardFilter\", backend_config={\"cudnn_conv_backend_config\":{\"activation_mode\":\"kNone\",\"conv_result_scale\":1,\"leakyrelu_alpha\":0,\"side_input_scale\":0},\"force_earliest_schedule\":false,\"operation_queue_id\":\"0\",\"wait_on_operation_queues\":[]} is taking a while...\n",
      "2025-06-10 22:14:01.033615: E external/local_xla/xla/service/slow_operation_alarm.cc:133] The operation took 1.283745588s\n",
      "Trying algorithm eng1{k2=2,k3=0} for conv (f32[128,64,5,5]{3,2,1,0}, u8[0]{0}) custom-call(f32[32,64,256,256]{3,2,1,0}, f32[32,128,256,256]{3,2,1,0}), window={size=5x5 pad=2_2x2_2}, dim_labels=bf01_oi01->bf01, custom_call_target=\"__cudnn$convBackwardFilter\", backend_config={\"cudnn_conv_backend_config\":{\"activation_mode\":\"kNone\",\"conv_result_scale\":1,\"leakyrelu_alpha\":0,\"side_input_scale\":0},\"force_earliest_schedule\":false,\"operation_queue_id\":\"0\",\"wait_on_operation_queues\":[]} is taking a while...\n",
      "2025-06-10 22:14:07.549651: E external/local_xla/xla/service/slow_operation_alarm.cc:65] Trying algorithm eng20{k2=1,k3=0} for conv (f32[64,128,7,7]{3,2,1,0}, u8[0]{0}) custom-call(f32[32,128,256,256]{3,2,1,0}, f32[32,64,128,128]{3,2,1,0}), window={size=7x7 stride=2x2 pad=3_3x3_3}, dim_labels=bf01_oi01->bf01, custom_call_target=\"__cudnn$convBackwardFilter\", backend_config={\"cudnn_conv_backend_config\":{\"activation_mode\":\"kNone\",\"conv_result_scale\":1,\"leakyrelu_alpha\":0,\"side_input_scale\":0},\"force_earliest_schedule\":false,\"operation_queue_id\":\"0\",\"wait_on_operation_queues\":[]} is taking a while...\n",
      "2025-06-10 22:14:07.652510: E external/local_xla/xla/service/slow_operation_alarm.cc:133] The operation took 1.102966908s\n",
      "Trying algorithm eng20{k2=1,k3=0} for conv (f32[64,128,7,7]{3,2,1,0}, u8[0]{0}) custom-call(f32[32,128,256,256]{3,2,1,0}, f32[32,64,128,128]{3,2,1,0}), window={size=7x7 stride=2x2 pad=3_3x3_3}, dim_labels=bf01_oi01->bf01, custom_call_target=\"__cudnn$convBackwardFilter\", backend_config={\"cudnn_conv_backend_config\":{\"activation_mode\":\"kNone\",\"conv_result_scale\":1,\"leakyrelu_alpha\":0,\"side_input_scale\":0},\"force_earliest_schedule\":false,\"operation_queue_id\":\"0\",\"wait_on_operation_queues\":[]} is taking a while...\n",
      "2025-06-10 22:14:08.652811: E external/local_xla/xla/service/slow_operation_alarm.cc:65] Trying algorithm eng1{k2=2,k3=0} for conv (f32[64,128,7,7]{3,2,1,0}, u8[0]{0}) custom-call(f32[32,128,256,256]{3,2,1,0}, f32[32,64,128,128]{3,2,1,0}), window={size=7x7 stride=2x2 pad=3_3x3_3}, dim_labels=bf01_oi01->bf01, custom_call_target=\"__cudnn$convBackwardFilter\", backend_config={\"cudnn_conv_backend_config\":{\"activation_mode\":\"kNone\",\"conv_result_scale\":1,\"leakyrelu_alpha\":0,\"side_input_scale\":0},\"force_earliest_schedule\":false,\"operation_queue_id\":\"0\",\"wait_on_operation_queues\":[]} is taking a while...\n",
      "2025-06-10 22:14:08.800264: E external/local_xla/xla/service/slow_operation_alarm.cc:133] The operation took 1.147637863s\n",
      "Trying algorithm eng1{k2=2,k3=0} for conv (f32[64,128,7,7]{3,2,1,0}, u8[0]{0}) custom-call(f32[32,128,256,256]{3,2,1,0}, f32[32,64,128,128]{3,2,1,0}), window={size=7x7 stride=2x2 pad=3_3x3_3}, dim_labels=bf01_oi01->bf01, custom_call_target=\"__cudnn$convBackwardFilter\", backend_config={\"cudnn_conv_backend_config\":{\"activation_mode\":\"kNone\",\"conv_result_scale\":1,\"leakyrelu_alpha\":0,\"side_input_scale\":0},\"force_earliest_schedule\":false,\"operation_queue_id\":\"0\",\"wait_on_operation_queues\":[]} is taking a while...\n",
      "I0000 00:00:1749593662.189970      62 device_compiler.h:188] Compiled cluster using XLA!  This line is logged at most once for the lifetime of the process.\n"
     ]
    },
    {
     "name": "stdout",
     "output_type": "stream",
     "text": [
      "\u001b[1m321/322\u001b[0m \u001b[32m━━━━━━━━━━━━━━━━━━━\u001b[0m\u001b[37m━\u001b[0m \u001b[1m1s\u001b[0m 1s/step - loss: 2050.6909 - max_error: 38.5241 - rmse: 39.9243"
     ]
    },
    {
     "name": "stderr",
     "output_type": "stream",
     "text": [
      "2025-06-10 22:19:54.100727: E external/local_xla/xla/service/slow_operation_alarm.cc:65] Trying algorithm eng11{k2=3,k3=0} for conv (f32[25,128,256,256]{3,2,1,0}, u8[0]{0}) custom-call(f32[25,64,256,256]{3,2,1,0}, f32[128,64,5,5]{3,2,1,0}, f32[128]{0}), window={size=5x5 pad=2_2x2_2}, dim_labels=bf01_oi01->bf01, custom_call_target=\"__cudnn$convBiasActivationForward\", backend_config={\"cudnn_conv_backend_config\":{\"activation_mode\":\"kNone\",\"conv_result_scale\":1,\"leakyrelu_alpha\":0,\"side_input_scale\":0},\"force_earliest_schedule\":false,\"operation_queue_id\":\"0\",\"wait_on_operation_queues\":[]} is taking a while...\n",
      "2025-06-10 22:19:54.148931: E external/local_xla/xla/service/slow_operation_alarm.cc:133] The operation took 1.04831009s\n",
      "Trying algorithm eng11{k2=3,k3=0} for conv (f32[25,128,256,256]{3,2,1,0}, u8[0]{0}) custom-call(f32[25,64,256,256]{3,2,1,0}, f32[128,64,5,5]{3,2,1,0}, f32[128]{0}), window={size=5x5 pad=2_2x2_2}, dim_labels=bf01_oi01->bf01, custom_call_target=\"__cudnn$convBiasActivationForward\", backend_config={\"cudnn_conv_backend_config\":{\"activation_mode\":\"kNone\",\"conv_result_scale\":1,\"leakyrelu_alpha\":0,\"side_input_scale\":0},\"force_earliest_schedule\":false,\"operation_queue_id\":\"0\",\"wait_on_operation_queues\":[]} is taking a while...\n",
      "2025-06-10 22:20:13.327728: E external/local_xla/xla/service/slow_operation_alarm.cc:65] Trying algorithm eng1{k2=8,k3=0} for conv (f32[128,64,5,5]{3,2,1,0}, u8[0]{0}) custom-call(f32[25,64,256,256]{3,2,1,0}, f32[25,128,256,256]{3,2,1,0}), window={size=5x5 pad=2_2x2_2}, dim_labels=bf01_oi01->bf01, custom_call_target=\"__cudnn$convBackwardFilter\", backend_config={\"cudnn_conv_backend_config\":{\"activation_mode\":\"kNone\",\"conv_result_scale\":1,\"leakyrelu_alpha\":0,\"side_input_scale\":0},\"force_earliest_schedule\":false,\"operation_queue_id\":\"0\",\"wait_on_operation_queues\":[]} is taking a while...\n",
      "2025-06-10 22:20:13.419658: E external/local_xla/xla/service/slow_operation_alarm.cc:133] The operation took 1.092105901s\n",
      "Trying algorithm eng1{k2=8,k3=0} for conv (f32[128,64,5,5]{3,2,1,0}, u8[0]{0}) custom-call(f32[25,64,256,256]{3,2,1,0}, f32[25,128,256,256]{3,2,1,0}), window={size=5x5 pad=2_2x2_2}, dim_labels=bf01_oi01->bf01, custom_call_target=\"__cudnn$convBackwardFilter\", backend_config={\"cudnn_conv_backend_config\":{\"activation_mode\":\"kNone\",\"conv_result_scale\":1,\"leakyrelu_alpha\":0,\"side_input_scale\":0},\"force_earliest_schedule\":false,\"operation_queue_id\":\"0\",\"wait_on_operation_queues\":[]} is taking a while...\n",
      "2025-06-10 22:20:14.419938: E external/local_xla/xla/service/slow_operation_alarm.cc:65] Trying algorithm eng20{k2=8,k3=0} for conv (f32[128,64,5,5]{3,2,1,0}, u8[0]{0}) custom-call(f32[25,64,256,256]{3,2,1,0}, f32[25,128,256,256]{3,2,1,0}), window={size=5x5 pad=2_2x2_2}, dim_labels=bf01_oi01->bf01, custom_call_target=\"__cudnn$convBackwardFilter\", backend_config={\"cudnn_conv_backend_config\":{\"activation_mode\":\"kNone\",\"conv_result_scale\":1,\"leakyrelu_alpha\":0,\"side_input_scale\":0},\"force_earliest_schedule\":false,\"operation_queue_id\":\"0\",\"wait_on_operation_queues\":[]} is taking a while...\n",
      "2025-06-10 22:20:14.473906: E external/local_xla/xla/service/slow_operation_alarm.cc:133] The operation took 1.054160758s\n",
      "Trying algorithm eng20{k2=8,k3=0} for conv (f32[128,64,5,5]{3,2,1,0}, u8[0]{0}) custom-call(f32[25,64,256,256]{3,2,1,0}, f32[25,128,256,256]{3,2,1,0}), window={size=5x5 pad=2_2x2_2}, dim_labels=bf01_oi01->bf01, custom_call_target=\"__cudnn$convBackwardFilter\", backend_config={\"cudnn_conv_backend_config\":{\"activation_mode\":\"kNone\",\"conv_result_scale\":1,\"leakyrelu_alpha\":0,\"side_input_scale\":0},\"force_earliest_schedule\":false,\"operation_queue_id\":\"0\",\"wait_on_operation_queues\":[]} is taking a while...\n",
      "2025-06-10 22:20:17.040342: E external/local_xla/xla/service/slow_operation_alarm.cc:65] Trying algorithm eng1{k2=6,k3=0} for conv (f32[128,64,5,5]{3,2,1,0}, u8[0]{0}) custom-call(f32[25,64,256,256]{3,2,1,0}, f32[25,128,256,256]{3,2,1,0}), window={size=5x5 pad=2_2x2_2}, dim_labels=bf01_oi01->bf01, custom_call_target=\"__cudnn$convBackwardFilter\", backend_config={\"cudnn_conv_backend_config\":{\"activation_mode\":\"kNone\",\"conv_result_scale\":1,\"leakyrelu_alpha\":0,\"side_input_scale\":0},\"force_earliest_schedule\":false,\"operation_queue_id\":\"0\",\"wait_on_operation_queues\":[]} is taking a while...\n",
      "2025-06-10 22:20:17.276148: E external/local_xla/xla/service/slow_operation_alarm.cc:133] The operation took 1.235894243s\n",
      "Trying algorithm eng1{k2=6,k3=0} for conv (f32[128,64,5,5]{3,2,1,0}, u8[0]{0}) custom-call(f32[25,64,256,256]{3,2,1,0}, f32[25,128,256,256]{3,2,1,0}), window={size=5x5 pad=2_2x2_2}, dim_labels=bf01_oi01->bf01, custom_call_target=\"__cudnn$convBackwardFilter\", backend_config={\"cudnn_conv_backend_config\":{\"activation_mode\":\"kNone\",\"conv_result_scale\":1,\"leakyrelu_alpha\":0,\"side_input_scale\":0},\"force_earliest_schedule\":false,\"operation_queue_id\":\"0\",\"wait_on_operation_queues\":[]} is taking a while...\n",
      "2025-06-10 22:20:18.276336: E external/local_xla/xla/service/slow_operation_alarm.cc:65] Trying algorithm eng20{k2=6,k3=0} for conv (f32[128,64,5,5]{3,2,1,0}, u8[0]{0}) custom-call(f32[25,64,256,256]{3,2,1,0}, f32[25,128,256,256]{3,2,1,0}), window={size=5x5 pad=2_2x2_2}, dim_labels=bf01_oi01->bf01, custom_call_target=\"__cudnn$convBackwardFilter\", backend_config={\"cudnn_conv_backend_config\":{\"activation_mode\":\"kNone\",\"conv_result_scale\":1,\"leakyrelu_alpha\":0,\"side_input_scale\":0},\"force_earliest_schedule\":false,\"operation_queue_id\":\"0\",\"wait_on_operation_queues\":[]} is taking a while...\n",
      "2025-06-10 22:20:18.509144: E external/local_xla/xla/service/slow_operation_alarm.cc:133] The operation took 1.232896892s\n",
      "Trying algorithm eng20{k2=6,k3=0} for conv (f32[128,64,5,5]{3,2,1,0}, u8[0]{0}) custom-call(f32[25,64,256,256]{3,2,1,0}, f32[25,128,256,256]{3,2,1,0}), window={size=5x5 pad=2_2x2_2}, dim_labels=bf01_oi01->bf01, custom_call_target=\"__cudnn$convBackwardFilter\", backend_config={\"cudnn_conv_backend_config\":{\"activation_mode\":\"kNone\",\"conv_result_scale\":1,\"leakyrelu_alpha\":0,\"side_input_scale\":0},\"force_earliest_schedule\":false,\"operation_queue_id\":\"0\",\"wait_on_operation_queues\":[]} is taking a while...\n",
      "2025-06-10 22:20:20.505988: E external/local_xla/xla/service/slow_operation_alarm.cc:65] Trying algorithm eng1{k2=2,k3=0} for conv (f32[128,64,5,5]{3,2,1,0}, u8[0]{0}) custom-call(f32[25,64,256,256]{3,2,1,0}, f32[25,128,256,256]{3,2,1,0}), window={size=5x5 pad=2_2x2_2}, dim_labels=bf01_oi01->bf01, custom_call_target=\"__cudnn$convBackwardFilter\", backend_config={\"cudnn_conv_backend_config\":{\"activation_mode\":\"kNone\",\"conv_result_scale\":1,\"leakyrelu_alpha\":0,\"side_input_scale\":0},\"force_earliest_schedule\":false,\"operation_queue_id\":\"0\",\"wait_on_operation_queues\":[]} is taking a while...\n",
      "2025-06-10 22:20:20.551300: E external/local_xla/xla/service/slow_operation_alarm.cc:133] The operation took 1.045423203s\n",
      "Trying algorithm eng1{k2=2,k3=0} for conv (f32[128,64,5,5]{3,2,1,0}, u8[0]{0}) custom-call(f32[25,64,256,256]{3,2,1,0}, f32[25,128,256,256]{3,2,1,0}), window={size=5x5 pad=2_2x2_2}, dim_labels=bf01_oi01->bf01, custom_call_target=\"__cudnn$convBackwardFilter\", backend_config={\"cudnn_conv_backend_config\":{\"activation_mode\":\"kNone\",\"conv_result_scale\":1,\"leakyrelu_alpha\":0,\"side_input_scale\":0},\"force_earliest_schedule\":false,\"operation_queue_id\":\"0\",\"wait_on_operation_queues\":[]} is taking a while...\n"
     ]
    },
    {
     "name": "stdout",
     "output_type": "stream",
     "text": [
      "\u001b[1m322/322\u001b[0m \u001b[32m━━━━━━━━━━━━━━━━━━━━\u001b[0m\u001b[37m\u001b[0m \u001b[1m0s\u001b[0m 1s/step - loss: 2045.8912 - max_error: 38.4513 - rmse: 39.8702"
     ]
    },
    {
     "name": "stderr",
     "output_type": "stream",
     "text": [
      "2025-06-10 22:21:14.184890: E external/local_xla/xla/service/slow_operation_alarm.cc:65] Trying algorithm eng36{k2=3,k3=0} for conv (f32[15,128,256,256]{3,2,1,0}, u8[0]{0}) custom-call(f32[15,64,256,256]{3,2,1,0}, f32[128,64,5,5]{3,2,1,0}, f32[128]{0}), window={size=5x5 pad=2_2x2_2}, dim_labels=bf01_oi01->bf01, custom_call_target=\"__cudnn$convBiasActivationForward\", backend_config={\"cudnn_conv_backend_config\":{\"activation_mode\":\"kNone\",\"conv_result_scale\":1,\"leakyrelu_alpha\":0,\"side_input_scale\":0},\"force_earliest_schedule\":false,\"operation_queue_id\":\"0\",\"wait_on_operation_queues\":[]} is taking a while...\n",
      "2025-06-10 22:21:14.379093: E external/local_xla/xla/service/slow_operation_alarm.cc:133] The operation took 1.194290911s\n",
      "Trying algorithm eng36{k2=3,k3=0} for conv (f32[15,128,256,256]{3,2,1,0}, u8[0]{0}) custom-call(f32[15,64,256,256]{3,2,1,0}, f32[128,64,5,5]{3,2,1,0}, f32[128]{0}), window={size=5x5 pad=2_2x2_2}, dim_labels=bf01_oi01->bf01, custom_call_target=\"__cudnn$convBiasActivationForward\", backend_config={\"cudnn_conv_backend_config\":{\"activation_mode\":\"kNone\",\"conv_result_scale\":1,\"leakyrelu_alpha\":0,\"side_input_scale\":0},\"force_earliest_schedule\":false,\"operation_queue_id\":\"0\",\"wait_on_operation_queues\":[]} is taking a while...\n"
     ]
    },
    {
     "name": "stdout",
     "output_type": "stream",
     "text": [
      "\u001b[1m322/322\u001b[0m \u001b[32m━━━━━━━━━━━━━━━━━━━━\u001b[0m\u001b[37m\u001b[0m \u001b[1m533s\u001b[0m 1s/step - loss: 2041.1213 - max_error: 38.3788 - rmse: 39.8163 - val_loss: 118.7014 - val_max_error: 19.9503 - val_rmse: 10.8950\n",
      "Epoch 2/12\n",
      "\u001b[1m322/322\u001b[0m \u001b[32m━━━━━━━━━━━━━━━━━━━━\u001b[0m\u001b[37m\u001b[0m \u001b[1m345s\u001b[0m 1s/step - loss: 5.2701 - max_error: 4.2872 - rmse: 2.2876 - val_loss: 40.1160 - val_max_error: 9.9874 - val_rmse: 6.3337\n",
      "Epoch 3/12\n",
      "\u001b[1m322/322\u001b[0m \u001b[32m━━━━━━━━━━━━━━━━━━━━\u001b[0m\u001b[37m\u001b[0m \u001b[1m345s\u001b[0m 1s/step - loss: 3.4319 - max_error: 3.3836 - rmse: 1.8496 - val_loss: 11.4187 - val_max_error: 4.7472 - val_rmse: 3.3792\n",
      "Epoch 4/12\n",
      "\u001b[1m322/322\u001b[0m \u001b[32m━━━━━━━━━━━━━━━━━━━━\u001b[0m\u001b[37m\u001b[0m \u001b[1m344s\u001b[0m 1s/step - loss: 3.1828 - max_error: 3.1316 - rmse: 1.7816 - val_loss: 18.8867 - val_max_error: 7.4179 - val_rmse: 4.3459\n",
      "Epoch 5/12\n",
      "\u001b[1m322/322\u001b[0m \u001b[32m━━━━━━━━━━━━━━━━━━━━\u001b[0m\u001b[37m\u001b[0m \u001b[1m344s\u001b[0m 1s/step - loss: 2.6422 - max_error: 2.7978 - rmse: 1.6152 - val_loss: 15.5409 - val_max_error: 5.4367 - val_rmse: 3.9422\n",
      "Epoch 6/12\n",
      "\u001b[1m322/322\u001b[0m \u001b[32m━━━━━━━━━━━━━━━━━━━━\u001b[0m\u001b[37m\u001b[0m \u001b[1m345s\u001b[0m 1s/step - loss: 1.8513 - max_error: 2.3984 - rmse: 1.3596 - val_loss: 3.7661 - val_max_error: 3.5912 - val_rmse: 1.9406\n",
      "Epoch 7/12\n",
      "\u001b[1m322/322\u001b[0m \u001b[32m━━━━━━━━━━━━━━━━━━━━\u001b[0m\u001b[37m\u001b[0m \u001b[1m345s\u001b[0m 1s/step - loss: 1.1483 - max_error: 1.8358 - rmse: 1.0706 - val_loss: 0.6518 - val_max_error: 1.7190 - val_rmse: 0.8074\n",
      "Epoch 8/12\n",
      "\u001b[1m322/322\u001b[0m \u001b[32m━━━━━━━━━━━━━━━━━━━━\u001b[0m\u001b[37m\u001b[0m \u001b[1m345s\u001b[0m 1s/step - loss: 0.7281 - max_error: 1.6235 - rmse: 0.8528 - val_loss: 0.8009 - val_max_error: 1.9187 - val_rmse: 0.8949\n",
      "Epoch 9/12\n",
      "\u001b[1m322/322\u001b[0m \u001b[32m━━━━━━━━━━━━━━━━━━━━\u001b[0m\u001b[37m\u001b[0m \u001b[1m344s\u001b[0m 1s/step - loss: 0.6915 - max_error: 1.5421 - rmse: 0.8309 - val_loss: 2.1672 - val_max_error: 2.6118 - val_rmse: 1.4721\n",
      "Epoch 10/12\n",
      "\u001b[1m322/322\u001b[0m \u001b[32m━━━━━━━━━━━━━━━━━━━━\u001b[0m\u001b[37m\u001b[0m \u001b[1m345s\u001b[0m 1s/step - loss: 0.7148 - max_error: 1.5609 - rmse: 0.8436 - val_loss: 0.4094 - val_max_error: 1.3537 - val_rmse: 0.6399\n",
      "Epoch 11/12\n",
      "\u001b[1m322/322\u001b[0m \u001b[32m━━━━━━━━━━━━━━━━━━━━\u001b[0m\u001b[37m\u001b[0m \u001b[1m345s\u001b[0m 1s/step - loss: 0.7222 - max_error: 1.6508 - rmse: 0.8466 - val_loss: 0.8106 - val_max_error: 1.7382 - val_rmse: 0.9004\n",
      "Epoch 12/12\n",
      "\u001b[1m322/322\u001b[0m \u001b[32m━━━━━━━━━━━━━━━━━━━━\u001b[0m\u001b[37m\u001b[0m \u001b[1m344s\u001b[0m 1s/step - loss: 0.4179 - max_error: 1.3023 - rmse: 0.6453 - val_loss: 1.6314 - val_max_error: 2.1265 - val_rmse: 1.2773\n"
     ]
    }
   ],
   "source": [
    "history = model.fit(\n",
    "    train_ds,\n",
    "    validation_data=val_ds,\n",
    "    epochs=12,\n",
    "    callbacks=[\n",
    "        tf.keras.callbacks.EarlyStopping(patience=5, monitor='val_rmse')\n",
    "    ]\n",
    ")"
   ]
  },
  {
   "cell_type": "markdown",
   "id": "6ecd5824",
   "metadata": {
    "id": "oOp09cXw6jUZ",
    "papermill": {
     "duration": 0.160166,
     "end_time": "2025-06-10T23:24:31.809927",
     "exception": false,
     "start_time": "2025-06-10T23:24:31.649761",
     "status": "completed"
    },
    "tags": []
   },
   "source": [
    "# Оценка и визуализация"
   ]
  },
  {
   "cell_type": "code",
   "execution_count": 8,
   "id": "fe6eac7f",
   "metadata": {
    "execution": {
     "iopub.execute_input": "2025-06-10T23:24:32.129914Z",
     "iopub.status.busy": "2025-06-10T23:24:32.129269Z",
     "iopub.status.idle": "2025-06-10T23:25:15.250668Z",
     "shell.execute_reply": "2025-06-10T23:25:15.249967Z"
    },
    "id": "Wzx5Dq4oW85Y",
    "outputId": "93e37595-61d0-4a99-aa3f-e59fcfe61ba4",
    "papermill": {
     "duration": 43.2822,
     "end_time": "2025-06-10T23:25:15.251765",
     "exception": false,
     "start_time": "2025-06-10T23:24:31.969565",
     "status": "completed"
    },
    "tags": []
   },
   "outputs": [
    {
     "name": "stderr",
     "output_type": "stream",
     "text": [
      "2025-06-10 23:25:08.037377: E external/local_xla/xla/service/slow_operation_alarm.cc:65] Trying algorithm eng36{k2=3,k3=0} for conv (f32[18,128,256,256]{3,2,1,0}, u8[0]{0}) custom-call(f32[18,64,256,256]{3,2,1,0}, f32[128,64,5,5]{3,2,1,0}, f32[128]{0}), window={size=5x5 pad=2_2x2_2}, dim_labels=bf01_oi01->bf01, custom_call_target=\"__cudnn$convBiasActivationForward\", backend_config={\"cudnn_conv_backend_config\":{\"activation_mode\":\"kNone\",\"conv_result_scale\":1,\"leakyrelu_alpha\":0,\"side_input_scale\":0},\"force_earliest_schedule\":false,\"operation_queue_id\":\"0\",\"wait_on_operation_queues\":[]} is taking a while...\n",
      "2025-06-10 23:25:08.353797: E external/local_xla/xla/service/slow_operation_alarm.cc:133] The operation took 1.316552878s\n",
      "Trying algorithm eng36{k2=3,k3=0} for conv (f32[18,128,256,256]{3,2,1,0}, u8[0]{0}) custom-call(f32[18,64,256,256]{3,2,1,0}, f32[128,64,5,5]{3,2,1,0}, f32[128]{0}), window={size=5x5 pad=2_2x2_2}, dim_labels=bf01_oi01->bf01, custom_call_target=\"__cudnn$convBiasActivationForward\", backend_config={\"cudnn_conv_backend_config\":{\"activation_mode\":\"kNone\",\"conv_result_scale\":1,\"leakyrelu_alpha\":0,\"side_input_scale\":0},\"force_earliest_schedule\":false,\"operation_queue_id\":\"0\",\"wait_on_operation_queues\":[]} is taking a while...\n"
     ]
    },
    {
     "name": "stdout",
     "output_type": "stream",
     "text": [
      "\n",
      "Ошибки на тестовом наборе:\n",
      "RMSE: 1.28 пикселей\n",
      "Максимальная ошибка: 2.11 пикселей\n"
     ]
    },
    {
     "data": {
      "image/png": "[encoded data removed]",
      "text/plain": [
       "<Figure size 1200x500 with 2 Axes>"
      ]
     },
     "metadata": {},
     "output_type": "display_data"
    }
   ],
   "source": [
    "# Оценка на тестовом наборе\n",
    "test_loss, test_rmse, test_max_error = model.evaluate(test_ds, verbose=0)\n",
    "print(f\"\\nОшибки на тестовом наборе:\")\n",
    "print(f\"RMSE: {test_rmse:.2f} пикселей\")\n",
    "print(f\"Максимальная ошибка: {test_max_error:.2f} пикселей\")\n",
    "\n",
    "# Визуализация обучения\n",
    "plt.figure(figsize=(12, 5))\n",
    "plt.subplot(1, 2, 1)\n",
    "plt.plot(history.history['rmse'], label='Обучающая')\n",
    "plt.plot(history.history['val_rmse'], label='Тестовая')\n",
    "plt.title('RMSE (пиксели)')\n",
    "plt.xlabel('Эпохи')\n",
    "plt.legend()\n",
    "\n",
    "plt.subplot(1, 2, 2)\n",
    "plt.plot(history.history['max_error'], label='Обучающая')\n",
    "plt.plot(history.history['val_max_error'], label='Тестовая')\n",
    "plt.title('Максимальная ошибка (пиксели)')\n",
    "plt.xlabel('Эпохи')\n",
    "plt.legend()\n",
    "plt.show()"
   ]
  },
  {
   "cell_type": "markdown",
   "id": "a2a97ef3",
   "metadata": {
    "id": "q6xX35Au6uyk",
    "papermill": {
     "duration": 0.156973,
     "end_time": "2025-06-10T23:25:15.571294",
     "exception": false,
     "start_time": "2025-06-10T23:25:15.414321",
     "status": "completed"
    },
    "tags": []
   },
   "source": [
    "# Предсказание на случайном изображении из датасета"
   ]
  },
  {
   "cell_type": "code",
   "execution_count": 9,
   "id": "891702a9",
   "metadata": {
    "execution": {
     "iopub.execute_input": "2025-06-10T23:25:15.888974Z",
     "iopub.status.busy": "2025-06-10T23:25:15.888268Z",
     "iopub.status.idle": "2025-06-10T23:25:23.704326Z",
     "shell.execute_reply": "2025-06-10T23:25:23.703627Z"
    },
    "id": "g2PYWk5jWBtS",
    "outputId": "f1dde1d3-52d0-4a67-fd6c-4c967f8523ae",
    "papermill": {
     "duration": 7.978339,
     "end_time": "2025-06-10T23:25:23.705572",
     "exception": false,
     "start_time": "2025-06-10T23:25:15.727233",
     "status": "completed"
    },
    "tags": []
   },
   "outputs": [
    {
     "name": "stdout",
     "output_type": "stream",
     "text": [
      "\u001b[1m1/1\u001b[0m \u001b[32m━━━━━━━━━━━━━━━━━━━━\u001b[0m\u001b[37m\u001b[0m \u001b[1m6s\u001b[0m 6s/step\n"
     ]
    },
    {
     "data": {
      "image/png": "[encoded data removed]",
      "text/plain": [
       "<Figure size 800x800 with 1 Axes>"
      ]
     },
     "metadata": {},
     "output_type": "display_data"
    }
   ],
   "source": [
    "import random\n",
    "\n",
    "# Тестовый датасет в виде списка\n",
    "test_images = list(test_ds.unbatch().as_numpy_iterator())\n",
    "\n",
    "# Выбираем случайное изображение\n",
    "random_sample = random.choice(test_images)\n",
    "sample_image = random_sample[0][np.newaxis, ...]  # Добавляем batch-размерность\n",
    "true_center = random_sample[1][np.newaxis, ...]  # Добавляем batch-размерность\n",
    "\n",
    "# Получаем предсказание\n",
    "predicted_center = model.predict(sample_image)[0]\n",
    "\n",
    "# Отображение результата\n",
    "plt.figure(figsize=(8, 8))\n",
    "plt.imshow(sample_image[0].squeeze(), cmap='gray')\n",
    "plt.scatter(true_center[0][1], true_center[0][0], c='blue', s=50, label='Истинный центр')\n",
    "plt.scatter(predicted_center[1], predicted_center[0], c='red', s=50, label='Предсказанный центр')\n",
    "plt.title(f\"Ошибка: {np.linalg.norm(true_center[0] - predicted_center):.2f} пикселей\")\n",
    "plt.legend()\n",
    "plt.show()"
   ]
  },
  {
   "cell_type": "markdown",
   "id": "9c5fdebf",
   "metadata": {
    "id": "mI_6TWse67Gj",
    "papermill": {
     "duration": 0.208168,
     "end_time": "2025-06-10T23:25:24.074820",
     "exception": false,
     "start_time": "2025-06-10T23:25:23.866652",
     "status": "completed"
    },
    "tags": []
   },
   "source": [
    "# Сохранение модели"
   ]
  },
  {
   "cell_type": "code",
   "execution_count": 10,
   "id": "da00e727",
   "metadata": {
    "execution": {
     "iopub.execute_input": "2025-06-10T23:25:24.391005Z",
     "iopub.status.busy": "2025-06-10T23:25:24.390736Z",
     "iopub.status.idle": "2025-06-10T23:25:24.394027Z",
     "shell.execute_reply": "2025-06-10T23:25:24.393492Z"
    },
    "id": "1h6HnydTkERz",
    "papermill": {
     "duration": 0.162438,
     "end_time": "2025-06-10T23:25:24.394994",
     "exception": false,
     "start_time": "2025-06-10T23:25:24.232556",
     "status": "completed"
    },
    "tags": []
   },
   "outputs": [],
   "source": [
    "#model_path = '/content/drive/My Drive/Colab_Notebooks/psf_center_model.h5'\n",
    "#model.save(model_path)\n",
    "\n",
    "# Сохранение истории обучения\n",
    "#import pickle\n",
    "#history_path = '/content/drive/My Drive/Colab_Notebooks/history.pkl'\n",
    "#with open(history_path, 'wb') as f:\n",
    "#    pickle.dump(history.history, f)"
   ]
  }
 ],
 "metadata": {
  "accelerator": "GPU",
  "colab": {
   "authorship_tag": "ABX9TyNdpwsXP3TtkFZmUa4VbhRj",
   "gpuType": "T4",
   "include_colab_link": true,
   "provenance": [],
   "toc_visible": true
  },
  "kaggle": {
   "accelerator": "nvidiaTeslaT4",
   "dataSources": [
    {
     "datasetId": 7596359,
     "sourceId": 12068403,
     "sourceType": "datasetVersion"
    },
    {
     "datasetId": 7596917,
     "sourceId": 12069198,
     "sourceType": "datasetVersion"
    },
    {
     "datasetId": 7633751,
     "sourceId": 12123334,
     "sourceType": "datasetVersion"
    },
    {
     "datasetId": 7633977,
     "sourceId": 12123739,
     "sourceType": "datasetVersion"
    }
   ],
   "dockerImageVersionId": 31040,
   "isGpuEnabled": true,
   "isInternetEnabled": false,
   "language": "python",
   "sourceType": "notebook"
  },
  "kernelspec": {
   "display_name": "Python 3",
   "language": "python",
   "name": "python3"
  },
  "language_info": {
   "codemirror_mode": {
    "name": "ipython",
    "version": 3
   },
   "file_extension": ".py",
   "mimetype": "text/x-python",
   "name": "python",
   "nbconvert_exporter": "python",
   "pygments_lexer": "ipython3",
   "version": "3.11.11"
  },
  "papermill": {
   "default_parameters": {},
   "duration": 4513.943532,
   "end_time": "2025-06-10T23:25:27.795466",
   "environment_variables": {},
   "exception": null,
   "input_path": "__notebook__.ipynb",
   "output_path": "__notebook__.ipynb",
   "parameters": {},
   "start_time": "2025-06-10T22:10:13.851934",
   "version": "2.6.0"
  }
 },
 "nbformat": 4,
 "nbformat_minor": 5
}
