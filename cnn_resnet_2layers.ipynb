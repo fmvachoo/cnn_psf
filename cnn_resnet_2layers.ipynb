{
  "nbformat": 4,
  "nbformat_minor": 0,
  "metadata": {
    "colab": {
      "provenance": [],
      "gpuType": "T4",
      "toc_visible": true,
      "authorship_tag": "ABX9TyO9WD1zTr+eNZRZ1UXKYQE2",
      "include_colab_link": true
    },
    "kernelspec": {
      "name": "python3",
      "display_name": "Python 3"
    },
    "language_info": {
      "name": "python"
    },
    "accelerator": "GPU"
  },
  "cells": [
    {
      "cell_type": "markdown",
      "metadata": {
        "id": "view-in-github",
        "colab_type": "text"
      },
      "source": [
        "<a href=\"https://colab.research.google.com/github/hero-hub/cnn_psf/blob/main/cnn_resnet_2layers.ipynb\" target=\"_parent\"><img src=\"https://colab.research.google.com/assets/colab-badge.svg\" alt=\"Open In Colab\"/></a>"
      ]
    },
    {
      "cell_type": "markdown",
      "source": [
        "# Импорт библиотек"
      ],
      "metadata": {
        "id": "kiO2S2QU6NAv"
      }
    },
    {
      "cell_type": "code",
      "source": [
        "import os\n",
        "import tensorflow as tf\n",
        "from tensorflow.keras.applications import ResNet50\n",
        "from tensorflow.keras import layers, models\n",
        "from PIL import Image\n",
        "import numpy as np\n",
        "import matplotlib.pyplot as plt\n",
        "from sklearn.model_selection import train_test_split\n",
        "import zipfile\n",
        "from google.colab import drive\n",
        "import sys"
      ],
      "metadata": {
        "id": "_N_4xPrBWuTd"
      },
      "execution_count": null,
      "outputs": []
    },
    {
      "cell_type": "markdown",
      "source": [
        "# Загрузка и подготовка данных\n"
      ],
      "metadata": {
        "id": "f5oNXe706Ykc"
      }
    },
    {
      "cell_type": "code",
      "source": [
        "# Подключение Google Drive\n",
        "drive.mount('/content/drive')\n",
        "\n",
        "# Путь к папке, где находится library_help_tools.py\n",
        "sys.path.insert(0, '/content/drive/My Drive/Colab_Notebooks/scripts')\n",
        "\n",
        "print(sys.path)\n",
        "\n",
        "try:\n",
        "    import library_help_tools as lht\n",
        "    print(\"Модуль успешно импортирован!\")\n",
        "except ModuleNotFoundError as e:\n",
        "    print(f\"Ошибка импорта: {e}\")\n",
        "\n",
        "# Максимальная абсолютная ошибка\n",
        "def max_error(y_true, y_pred):\n",
        "    y_true = tf.cast(y_true, tf.float32)  # Приводим y_true к float32\n",
        "    y_pred = tf.cast(y_pred, tf.float32)  # Приводим y_pred к float32\n",
        "    return tf.reduce_max(tf.abs(y_true - y_pred))"
      ],
      "metadata": {
        "colab": {
          "base_uri": "https://localhost:8080/"
        },
        "id": "uUS-gzyYZQxQ",
        "outputId": "9a99a6cf-c061-4810-a1da-98b692579b07"
      },
      "execution_count": null,
      "outputs": [
        {
          "output_type": "stream",
          "name": "stdout",
          "text": [
            "Mounted at /content/drive\n",
            "['/content/drive/My Drive/Colab_Notebooks/scripts', '/content', '/env/python', '/usr/lib/python311.zip', '/usr/lib/python3.11', '/usr/lib/python3.11/lib-dynload', '', '/usr/local/lib/python3.11/dist-packages', '/usr/lib/python3/dist-packages', '/usr/local/lib/python3.11/dist-packages/IPython/extensions', '/usr/local/lib/python3.11/dist-packages/setuptools/_vendor', '/root/.ipython']\n",
            "Модуль успешно импортирован!\n"
          ]
        }
      ]
    },
    {
      "cell_type": "code",
      "source": [
        "dir_test = '../data/PSF_PNG/PSF_Test36/'\n",
        "dir_ast3_spher35 = '../data/PSF_PNG/PSF_Ast3_Spher35/'\n",
        "zip_file = '/content/drive/My Drive/Colab_Notebooks/img128_7987.zip'\n",
        "z = zipfile.ZipFile(zip_file, 'r')\n",
        "z.extractall()\n",
        "print(os.listdir())\n",
        "\n",
        "def load_images_from_directory(dir_read):\n",
        "    images = []  # Список для хранения изображений\n",
        "    list_file = os.listdir(dir_read)  # Получаем список файлов в директории\n",
        "\n",
        "    for cur_file in list_file:\n",
        "        cur_file_path = os.path.join(dir_read, cur_file)\n",
        "        try:\n",
        "            img = Image.open(cur_file_path)\n",
        "            images.append(img)\n",
        "        except Exception as e:\n",
        "            print(f\"Ошибка при чтении файла {cur_file_path}: {e}\")\n",
        "\n",
        "    print(f'Количество загруженных изображений - {len(images)}')\n",
        "    return images\n",
        "\n",
        "zip_directory = 'img128_7987/img128_7987/'\n",
        "images = load_images_from_directory(zip_directory)"
      ],
      "metadata": {
        "colab": {
          "base_uri": "https://localhost:8080/"
        },
        "id": "Wtd-mnK2ZV4q",
        "outputId": "91ae7a70-943a-4ba1-db70-eaeaeb7a22c4"
      },
      "execution_count": 24,
      "outputs": [
        {
          "output_type": "stream",
          "name": "stdout",
          "text": [
            "['.config', 'img256_7987', 'img_', 'drive', 'img128_7987', 'img128_6194', 'sample_data']\n",
            "Количество загруженных изображений - 7987\n"
          ]
        }
      ]
    },
    {
      "cell_type": "code",
      "source": [
        "# Создаем словарь с параметрами\n",
        "GVD = dict(\n",
        "    DATA_DIR = zip_directory,\n",
        "    FILE_FORMAT = \".png\",\n",
        "    IMG_SIZE = 256,\n",
        "    TEST_SPLIT = 0.2,\n",
        "    VALIDATION_SPLIT = 0.2,\n",
        "    SEED = 123\n",
        ")"
      ],
      "metadata": {
        "id": "2oi9Zf9kZXhF"
      },
      "execution_count": 25,
      "outputs": []
    },
    {
      "cell_type": "code",
      "source": [
        "# Загрузка данных\n",
        "ts_images, ts_labels = lht.load_data(lht.list_files(GVD['DATA_DIR'], GVD['FILE_FORMAT']))\n",
        "\n",
        "# Преобразование в numpy массивы, если это еще не сделано\n",
        "ts_images = np.array(ts_images)\n",
        "ts_labels = np.array(ts_labels)\n",
        "\n",
        "# Разделение данных\n",
        "X_train, X_test, y_train, y_test = train_test_split(\n",
        "    ts_images, ts_labels, test_size=0.2, random_state=42, shuffle=True)\n",
        "\n",
        "X_train, X_val, y_train, y_val = train_test_split(\n",
        "    X_train, y_train, test_size=0.2, random_state=42)\n",
        "\n",
        "# Преобразование в tf.data.Dataset\n",
        "train_ds = tf.data.Dataset.from_tensor_slices((X_train, y_train))\n",
        "train_ds = train_ds.shuffle(buffer_size=1024).batch(32)\n",
        "\n",
        "val_ds = tf.data.Dataset.from_tensor_slices((X_val, y_val)).batch(32)\n",
        "test_ds = tf.data.Dataset.from_tensor_slices((X_test, y_test)).batch(32)"
      ],
      "metadata": {
        "collapsed": true,
        "id": "BEoIf--hWyW5"
      },
      "execution_count": 26,
      "outputs": []
    },
    {
      "cell_type": "code",
      "source": [
        "# ======================\n",
        "# 3. Создание модели\n",
        "# ======================\n",
        "import tensorflow as tf\n",
        "from tensorflow.keras import layers, models\n",
        "from tensorflow.keras.applications import ResNet50\n",
        "\n",
        "# Входной слой\n",
        "inputs = layers.Input(shape=(128, 128, 1))  #128x128 и ЧБ (1 канал)\n",
        "\n",
        "# Предварительные сверточные слои\n",
        "x = layers.Conv2D(64, 3, activation='gelu', padding='same')(inputs)\n",
        "x = layers.Conv2D(128, 5, activation='gelu', padding='same')(x)\n",
        "\n",
        "# ResNet50\n",
        "resnet = ResNet50(\n",
        "    include_top=False,\n",
        "    weights=None,\n",
        "    input_tensor=x,  # Передаем выход предыдущего слоя\n",
        "    pooling='avg'  # Глобальное усреднение\n",
        ")\n",
        "\n",
        "# Выходной слой\n",
        "outputs = layers.Dense(2, activation='linear')(resnet.output)\n",
        "\n",
        "# Создание модели\n",
        "model = models.Model(inputs=inputs, outputs=outputs)\n",
        "\n",
        "# Компиляция модели\n",
        "model.compile(\n",
        "    optimizer='adam',\n",
        "    loss='mse',\n",
        "    metrics=[\n",
        "        tf.keras.metrics.RootMeanSquaredError(name='rmse'),\n",
        "        max_error\n",
        "    ]\n",
        ")"
      ],
      "metadata": {
        "id": "oLrpnkl-W2iW"
      },
      "execution_count": 27,
      "outputs": []
    },
    {
      "cell_type": "markdown",
      "source": [
        "# Обучение модели"
      ],
      "metadata": {
        "id": "D3jdqOtc7Xwo"
      }
    },
    {
      "cell_type": "code",
      "source": [
        "# ======================\n",
        "# 4. Обучение модели\n",
        "# ======================\n",
        "history = model.fit(\n",
        "    train_ds,\n",
        "    validation_data=val_ds,\n",
        "    epochs=16,\n",
        "    callbacks=[\n",
        "        tf.keras.callbacks.EarlyStopping(patience=5, monitor='val_rmse')\n",
        "    ]\n",
        ")"
      ],
      "metadata": {
        "colab": {
          "base_uri": "https://localhost:8080/"
        },
        "collapsed": true,
        "id": "LFaeDti8W5RN",
        "outputId": "193511ca-b9dd-4657-b388-2b1dd5481fe0"
      },
      "execution_count": 28,
      "outputs": [
        {
          "output_type": "stream",
          "name": "stdout",
          "text": [
            "Epoch 1/16\n",
            "\u001b[1m160/160\u001b[0m \u001b[32m━━━━━━━━━━━━━━━━━━━━\u001b[0m\u001b[37m\u001b[0m \u001b[1m182s\u001b[0m 604ms/step - loss: 476.2018 - max_error: 20.7890 - rmse: 19.1823 - val_loss: 385.0415 - val_max_error: 41.3532 - val_rmse: 19.6225\n",
            "Epoch 2/16\n",
            "\u001b[1m160/160\u001b[0m \u001b[32m━━━━━━━━━━━━━━━━━━━━\u001b[0m\u001b[37m\u001b[0m \u001b[1m41s\u001b[0m 255ms/step - loss: 4.8486 - max_error: 3.5351 - rmse: 2.1899 - val_loss: 477.9865 - val_max_error: 43.1997 - val_rmse: 21.8629\n",
            "Epoch 3/16\n",
            "\u001b[1m160/160\u001b[0m \u001b[32m━━━━━━━━━━━━━━━━━━━━\u001b[0m\u001b[37m\u001b[0m \u001b[1m42s\u001b[0m 260ms/step - loss: 3.0949 - max_error: 2.7357 - rmse: 1.7530 - val_loss: 450.3090 - val_max_error: 44.1700 - val_rmse: 21.2205\n",
            "Epoch 4/16\n",
            "\u001b[1m160/160\u001b[0m \u001b[32m━━━━━━━━━━━━━━━━━━━━\u001b[0m\u001b[37m\u001b[0m \u001b[1m41s\u001b[0m 259ms/step - loss: 3.4260 - max_error: 2.9784 - rmse: 1.8292 - val_loss: 8.6371 - val_max_error: 10.3639 - val_rmse: 2.9389\n",
            "Epoch 5/16\n",
            "\u001b[1m160/160\u001b[0m \u001b[32m━━━━━━━━━━━━━━━━━━━━\u001b[0m\u001b[37m\u001b[0m \u001b[1m42s\u001b[0m 264ms/step - loss: 1.3931 - max_error: 1.9390 - rmse: 1.1791 - val_loss: 4.2555 - val_max_error: 3.8782 - val_rmse: 2.0629\n",
            "Epoch 6/16\n",
            "\u001b[1m160/160\u001b[0m \u001b[32m━━━━━━━━━━━━━━━━━━━━\u001b[0m\u001b[37m\u001b[0m \u001b[1m81s\u001b[0m 258ms/step - loss: 1.1038 - max_error: 1.8751 - rmse: 1.0498 - val_loss: 9.6334 - val_max_error: 5.6063 - val_rmse: 3.1038\n",
            "Epoch 7/16\n",
            "\u001b[1m160/160\u001b[0m \u001b[32m━━━━━━━━━━━━━━━━━━━━\u001b[0m\u001b[37m\u001b[0m \u001b[1m81s\u001b[0m 255ms/step - loss: 1.1351 - max_error: 1.8791 - rmse: 1.0635 - val_loss: 0.8895 - val_max_error: 2.0742 - val_rmse: 0.9431\n",
            "Epoch 8/16\n",
            "\u001b[1m160/160\u001b[0m \u001b[32m━━━━━━━━━━━━━━━━━━━━\u001b[0m\u001b[37m\u001b[0m \u001b[1m42s\u001b[0m 260ms/step - loss: 0.5514 - max_error: 1.3599 - rmse: 0.7359 - val_loss: 3.4883 - val_max_error: 2.5934 - val_rmse: 1.8677\n",
            "Epoch 9/16\n",
            "\u001b[1m160/160\u001b[0m \u001b[32m━━━━━━━━━━━━━━━━━━━━\u001b[0m\u001b[37m\u001b[0m \u001b[1m82s\u001b[0m 257ms/step - loss: 0.2648 - max_error: 1.0954 - rmse: 0.5140 - val_loss: 2.4973 - val_max_error: 2.5235 - val_rmse: 1.5803\n",
            "Epoch 10/16\n",
            "\u001b[1m160/160\u001b[0m \u001b[32m━━━━━━━━━━━━━━━━━━━━\u001b[0m\u001b[37m\u001b[0m \u001b[1m42s\u001b[0m 260ms/step - loss: 0.2681 - max_error: 1.0417 - rmse: 0.5171 - val_loss: 0.9771 - val_max_error: 1.8905 - val_rmse: 0.9885\n",
            "Epoch 11/16\n",
            "\u001b[1m160/160\u001b[0m \u001b[32m━━━━━━━━━━━━━━━━━━━━\u001b[0m\u001b[37m\u001b[0m \u001b[1m81s\u001b[0m 255ms/step - loss: 0.3074 - max_error: 1.0714 - rmse: 0.5511 - val_loss: 1.8581 - val_max_error: 2.2065 - val_rmse: 1.3631\n",
            "Epoch 12/16\n",
            "\u001b[1m160/160\u001b[0m \u001b[32m━━━━━━━━━━━━━━━━━━━━\u001b[0m\u001b[37m\u001b[0m \u001b[1m41s\u001b[0m 259ms/step - loss: 0.5651 - max_error: 1.3303 - rmse: 0.7489 - val_loss: 0.5046 - val_max_error: 1.3756 - val_rmse: 0.7104\n",
            "Epoch 13/16\n",
            "\u001b[1m160/160\u001b[0m \u001b[32m━━━━━━━━━━━━━━━━━━━━\u001b[0m\u001b[37m\u001b[0m \u001b[1m42s\u001b[0m 263ms/step - loss: 0.1996 - max_error: 0.9354 - rmse: 0.4459 - val_loss: 0.4490 - val_max_error: 1.2172 - val_rmse: 0.6700\n",
            "Epoch 14/16\n",
            "\u001b[1m160/160\u001b[0m \u001b[32m━━━━━━━━━━━━━━━━━━━━\u001b[0m\u001b[37m\u001b[0m \u001b[1m42s\u001b[0m 264ms/step - loss: 0.1576 - max_error: 0.8601 - rmse: 0.3957 - val_loss: 2.0604 - val_max_error: 2.0275 - val_rmse: 1.4354\n",
            "Epoch 15/16\n",
            "\u001b[1m160/160\u001b[0m \u001b[32m━━━━━━━━━━━━━━━━━━━━\u001b[0m\u001b[37m\u001b[0m \u001b[1m42s\u001b[0m 263ms/step - loss: 0.1807 - max_error: 0.9204 - rmse: 0.4244 - val_loss: 2.3614 - val_max_error: 2.4303 - val_rmse: 1.5367\n",
            "Epoch 16/16\n",
            "\u001b[1m160/160\u001b[0m \u001b[32m━━━━━━━━━━━━━━━━━━━━\u001b[0m\u001b[37m\u001b[0m \u001b[1m45s\u001b[0m 279ms/step - loss: 0.2383 - max_error: 0.9933 - rmse: 0.4858 - val_loss: 0.6042 - val_max_error: 1.4908 - val_rmse: 0.7773\n"
          ]
        }
      ]
    },
    {
      "cell_type": "markdown",
      "source": [
        "# Оценка и визуализация"
      ],
      "metadata": {
        "id": "oOp09cXw6jUZ"
      }
    },
    {
      "cell_type": "code",
      "source": [
        "# Оценка на тестовом наборе\n",
        "test_loss, test_rmse, test_max_error = model.evaluate(test_ds, verbose=0)\n",
        "print(f\"\\nОшибки на тестовом наборе:\")\n",
        "print(f\"RMSE: {test_rmse:.2f} пикселей\")\n",
        "print(f\"Максимальная ошибка: {test_max_error:.2f} пикселей\")\n",
        "\n",
        "# Визуализация обучения\n",
        "plt.figure(figsize=(12, 5))\n",
        "plt.subplot(1, 2, 1)\n",
        "plt.plot(history.history['rmse'], label='Обучающая')\n",
        "plt.plot(history.history['val_rmse'], label='Тестовая')\n",
        "plt.title('RMSE (пиксели)')\n",
        "plt.xlabel('Эпохи')\n",
        "plt.legend()\n",
        "\n",
        "plt.subplot(1, 2, 2)\n",
        "plt.plot(history.history['max_error'], label='Обучающая')\n",
        "plt.plot(history.history['val_max_error'], label='Тестовая')\n",
        "plt.title('Максимальная ошибка (пиксели)')\n",
        "plt.xlabel('Эпохи')\n",
        "plt.legend()\n",
        "plt.show()"
      ],
      "metadata": {
        "colab": {
          "base_uri": "https://localhost:8080/",
          "height": 556
        },
        "id": "Wzx5Dq4oW85Y",
        "outputId": "d738b4d3-4519-4a50-870e-9b97aa007528"
      },
      "execution_count": 29,
      "outputs": [
        {
          "output_type": "stream",
          "name": "stdout",
          "text": [
            "\n",
            "Ошибки на тестовом наборе:\n",
            "RMSE: 0.77 пикселей\n",
            "Максимальная ошибка: 1.45 пикселей\n"
          ]
        },
        {
          "output_type": "display_data",
          "data": {
            "text/plain": [
              "<Figure size 1200x500 with 2 Axes>"
            ],
            "image/png": "[encoded data removed]"
          },
          "metadata": {}
        }
      ]
    },
    {
      "cell_type": "markdown",
      "source": [
        "# Предсказание на случайном изображении из датасета"
      ],
      "metadata": {
        "id": "q6xX35Au6uyk"
      }
    },
    {
      "cell_type": "code",
      "execution_count": 30,
      "metadata": {
        "colab": {
          "base_uri": "https://localhost:8080/",
          "height": 716
        },
        "id": "g2PYWk5jWBtS",
        "outputId": "1e5b4ef5-23ee-44f0-ecd1-67d4bc81e957"
      },
      "outputs": [
        {
          "output_type": "stream",
          "name": "stdout",
          "text": [
            "\u001b[1m1/1\u001b[0m \u001b[32m━━━━━━━━━━━━━━━━━━━━\u001b[0m\u001b[37m\u001b[0m \u001b[1m5s\u001b[0m 5s/step\n"
          ]
        },
        {
          "output_type": "display_data",
          "data": {
            "text/plain": [
              "<Figure size 800x800 with 1 Axes>"
            ],
            "image/png": "[encoded data removed]"
          },
          "metadata": {}
        }
      ],
      "source": [
        "import random\n",
        "\n",
        "# Тестовый датасет в виде списка\n",
        "test_images = list(test_ds.unbatch().as_numpy_iterator())\n",
        "\n",
        "# Выбираем случайное изображение\n",
        "random_sample = random.choice(test_images)\n",
        "sample_image = random_sample[0][np.newaxis, ...]  # Добавляем batch-размерность\n",
        "true_center = random_sample[1][np.newaxis, ...]  # Добавляем batch-размерность\n",
        "\n",
        "# Получаем предсказание\n",
        "predicted_center = model.predict(sample_image)[0]\n",
        "\n",
        "# Отображение результата\n",
        "plt.figure(figsize=(8, 8))\n",
        "plt.imshow(sample_image[0].squeeze(), cmap='gray')\n",
        "plt.scatter(true_center[0][1], true_center[0][0], c='blue', s=50, label='Истинный центр')\n",
        "plt.scatter(predicted_center[1], predicted_center[0], c='red', s=50, label='Предсказанный центр')\n",
        "plt.title(f\"Ошибка: {np.linalg.norm(true_center[0] - predicted_center):.2f} пикселей\")\n",
        "plt.legend()\n",
        "plt.show()"
      ]
    },
    {
      "cell_type": "markdown",
      "source": [
        "# Сохранение модели"
      ],
      "metadata": {
        "id": "mI_6TWse67Gj"
      }
    },
    {
      "cell_type": "code",
      "source": [
        "#model_path = '/content/drive/My Drive/Colab_Notebooks/psf_center_model.h5'\n",
        "#model.save(model_path)\n",
        "\n",
        "# Сохранение истории обучения\n",
        "#import pickle\n",
        "#history_path = '/content/drive/My Drive/Colab_Notebooks/history.pkl'\n",
        "#with open(history_path, 'wb') as f:\n",
        "#    pickle.dump(history.history, f)"
      ],
      "metadata": {
        "id": "1h6HnydTkERz"
      },
      "execution_count": null,
      "outputs": []
    }
  ]
}