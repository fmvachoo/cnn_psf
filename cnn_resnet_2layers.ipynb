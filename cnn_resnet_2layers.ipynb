{
  "nbformat": 4,
  "nbformat_minor": 0,
  "metadata": {
    "colab": {
      "provenance": [],
      "gpuType": "T4",
      "authorship_tag": "ABX9TyOisd/+1H51qeQZc2Yvxr23",
      "include_colab_link": true
    },
    "kernelspec": {
      "name": "python3",
      "display_name": "Python 3"
    },
    "language_info": {
      "name": "python"
    },
    "accelerator": "GPU"
  },
  "cells": [
    {
      "cell_type": "markdown",
      "metadata": {
        "id": "view-in-github",
        "colab_type": "text"
      },
      "source": [
        "<a href=\"https://colab.research.google.com/github/hero-hub/cnn_psf/blob/main/cnn_resnet_2layers.ipynb\" target=\"_parent\"><img src=\"https://colab.research.google.com/assets/colab-badge.svg\" alt=\"Open In Colab\"/></a>"
      ]
    },
    {
      "cell_type": "code",
      "source": [
        "# ======================\n",
        "# 1. Импорт библиотек\n",
        "# ======================\n",
        "import os\n",
        "import tensorflow as tf\n",
        "from tensorflow.keras.applications import ResNet50\n",
        "from tensorflow.keras import layers, models\n",
        "from PIL import Image\n",
        "import numpy as np\n",
        "import matplotlib.pyplot as plt\n",
        "from sklearn.model_selection import train_test_split\n",
        "import zipfile\n",
        "from google.colab import drive\n",
        "import sys"
      ],
      "metadata": {
        "id": "_N_4xPrBWuTd"
      },
      "execution_count": 14,
      "outputs": []
    },
    {
      "cell_type": "code",
      "source": [
        "# ======================\n",
        "# 2. Загрузка и подготовка данных\n",
        "# ======================\n",
        "# Подключение Google Drive\n",
        "drive.mount('/content/drive')\n",
        "\n",
        "# Путь к папке, где находится library_help_tools.py\n",
        "sys.path.insert(0, '/content/drive/My Drive/Colab_Notebooks/scripts')\n",
        "\n",
        "# Проверка, что путь добавлен\n",
        "print(sys.path)\n",
        "\n",
        "try:\n",
        "    import library_help_tools as lht\n",
        "    print(\"Модуль успешно импортирован!\")\n",
        "except ModuleNotFoundError as e:\n",
        "    print(f\"Ошибка импорта: {e}\")"
      ],
      "metadata": {
        "colab": {
          "base_uri": "https://localhost:8080/"
        },
        "id": "uUS-gzyYZQxQ",
        "outputId": "0b162362-92fe-4312-e1e2-775bff050fae"
      },
      "execution_count": 15,
      "outputs": [
        {
          "output_type": "stream",
          "name": "stdout",
          "text": [
            "Drive already mounted at /content/drive; to attempt to forcibly remount, call drive.mount(\"/content/drive\", force_remount=True).\n",
            "['/content/drive/My Drive/Colab_Notebooks/scripts', '/content/drive/My Drive/Colab_Notebooks/scripts', '/content', '/env/python', '/usr/lib/python311.zip', '/usr/lib/python3.11', '/usr/lib/python3.11/lib-dynload', '', '/usr/local/lib/python3.11/dist-packages', '/usr/lib/python3/dist-packages', '/usr/local/lib/python3.11/dist-packages/IPython/extensions', '/root/.ipython', '/usr/local/lib/python3.11/dist-packages/setuptools/_vendor']\n",
            "Модуль успешно импортирован!\n"
          ]
        }
      ]
    },
    {
      "cell_type": "code",
      "source": [
        "dir_test = '../data/PSF_PNG/PSF_Test36/'\n",
        "dir_ast3_spher35 = '../data/PSF_PNG/PSF_Ast3_Spher35/'\n",
        "zip_file = '/content/drive/My Drive/Colab_Notebooks/img128_6194.zip'\n",
        "z = zipfile.ZipFile(zip_file, 'r')\n",
        "z.extractall()\n",
        "print(os.listdir())\n",
        "\n",
        "def load_images_from_directory(dir_read):\n",
        "    images = []  # Список для хранения изображений\n",
        "    list_file = os.listdir(dir_read)  # Получаем список файлов в директории\n",
        "\n",
        "    for cur_file in list_file:\n",
        "        cur_file_path = os.path.join(dir_read, cur_file)\n",
        "        try:\n",
        "            img = Image.open(cur_file_path)  # Читаем изображение\n",
        "            images.append(img)  # Добавляем изображение в список\n",
        "        except Exception as e:\n",
        "            print(f\"Ошибка при чтении файла {cur_file_path}: {e}\")\n",
        "\n",
        "    print(f'Количество загруженных изображений - {len(images)}')\n",
        "    return images\n",
        "\n",
        "zip_directory = 'img128_6194/'  # Директория с распакованными изображениями\n",
        "images = load_images_from_directory(zip_directory)  # Загружаем изображения"
      ],
      "metadata": {
        "colab": {
          "base_uri": "https://localhost:8080/"
        },
        "id": "Wtd-mnK2ZV4q",
        "outputId": "d03b56b2-5474-41b0-cb3f-3bee3959e7d5"
      },
      "execution_count": 17,
      "outputs": [
        {
          "output_type": "stream",
          "name": "stdout",
          "text": [
            "['.config', 'img128_2986', 'img128_6194', 'drive', 'sample_data']\n",
            "Количество загруженных изображений - 6194\n"
          ]
        }
      ]
    },
    {
      "cell_type": "code",
      "source": [
        "# Создаем словарь с параметрами\n",
        "GVD = dict(\n",
        "    DATA_DIR = zip_directory,\n",
        "    FILE_FORMAT = \".png\",\n",
        "    IMG_SIZE = 128,\n",
        "    TEST_SPLIT = 0.2,\n",
        "    VALIDATION_SPLIT = 0.2,\n",
        "    SEED = 123\n",
        ")"
      ],
      "metadata": {
        "id": "2oi9Zf9kZXhF"
      },
      "execution_count": 18,
      "outputs": []
    },
    {
      "cell_type": "code",
      "source": [
        "# Загрузка данных\n",
        "ts_images, ts_labels = lht.load_data(lht.list_files(GVD['DATA_DIR'], GVD['FILE_FORMAT']))\n",
        "\n",
        "# Преобразование в numpy массивы, если это еще не сделано\n",
        "ts_images = np.array(ts_images)\n",
        "ts_labels = np.array(ts_labels)\n",
        "\n",
        "# Разделение данных\n",
        "X_train, X_test, y_train, y_test = train_test_split(\n",
        "    ts_images, ts_labels, test_size=0.2, random_state=42, shuffle=True)\n",
        "\n",
        "X_train, X_val, y_train, y_val = train_test_split(\n",
        "    X_train, y_train, test_size=0.2, random_state=42)\n",
        "\n",
        "# Преобразование в tf.data.Dataset\n",
        "train_ds = tf.data.Dataset.from_tensor_slices((X_train, y_train))\n",
        "train_ds = train_ds.shuffle(buffer_size=1024).batch(32)\n",
        "\n",
        "val_ds = tf.data.Dataset.from_tensor_slices((X_val, y_val)).batch(32)\n",
        "test_ds = tf.data.Dataset.from_tensor_slices((X_test, y_test)).batch(32)"
      ],
      "metadata": {
        "collapsed": true,
        "id": "BEoIf--hWyW5"
      },
      "execution_count": 19,
      "outputs": []
    },
    {
      "cell_type": "code",
      "source": [
        "# ======================\n",
        "# 3. Создание модели\n",
        "# ======================\n",
        "import tensorflow as tf\n",
        "from tensorflow.keras import layers, models  # Добавьте этот импорт\n",
        "from tensorflow.keras.applications import ResNet50\n",
        "\n",
        "# Входной слой\n",
        "inputs = layers.Input(shape=(128, 128, 1))  #128x128 и ЧБ (1 канал)\n",
        "\n",
        "# Предварительные сверточные слои\n",
        "x = layers.Conv2D(64, 3, activation='gelu', padding='same')(inputs)\n",
        "x = layers.Conv2D(128, 5, activation='gelu', padding='same')(x)\n",
        "\n",
        "# ResNet50 (без вершинных слоев)\n",
        "resnet = ResNet50(\n",
        "    include_top=False,\n",
        "    weights=None,\n",
        "    input_tensor=x,  # Передаем выход предыдущего слоя\n",
        "    pooling='avg'  # Глобальное усреднение\n",
        ")\n",
        "\n",
        "# Выходной слой для регрессии (2 выхода: x и y)\n",
        "outputs = layers.Dense(2, activation='linear')(resnet.output)\n",
        "\n",
        "# Создание модели\n",
        "model = models.Model(inputs=inputs, outputs=outputs)\n",
        "\n",
        "# Вывод структуры модели (для проверки)\n",
        "#model.summary()\n",
        "\n",
        "# Компиляция модели\n",
        "model.compile(\n",
        "    optimizer='adam',\n",
        "    loss='mse',\n",
        "    metrics=[\n",
        "        tf.keras.metrics.RootMeanSquaredError(name='rmse'),\n",
        "        tf.keras.metrics.MeanAbsoluteError(name='mae')\n",
        "    ]\n",
        ")"
      ],
      "metadata": {
        "id": "oLrpnkl-W2iW"
      },
      "execution_count": 20,
      "outputs": []
    },
    {
      "cell_type": "code",
      "source": [
        "# ======================\n",
        "# 4. Обучение модели\n",
        "# ======================\n",
        "history = model.fit(\n",
        "    train_ds,\n",
        "    validation_data=val_ds,\n",
        "    epochs=12,\n",
        "    callbacks=[\n",
        "        tf.keras.callbacks.EarlyStopping(patience=5, monitor='val_rmse')\n",
        "    ]\n",
        ")"
      ],
      "metadata": {
        "colab": {
          "base_uri": "https://localhost:8080/"
        },
        "collapsed": true,
        "id": "LFaeDti8W5RN",
        "outputId": "ff0f1f64-c146-4a7a-b777-bc00b708551b"
      },
      "execution_count": 21,
      "outputs": [
        {
          "output_type": "stream",
          "name": "stdout",
          "text": [
            "Epoch 1/12\n",
            "\u001b[1m124/124\u001b[0m \u001b[32m━━━━━━━━━━━━━━━━━━━━\u001b[0m\u001b[37m\u001b[0m \u001b[1m136s\u001b[0m 633ms/step - loss: 666.3933 - mae: 14.8371 - rmse: 22.8969 - val_loss: 453.6178 - val_mae: 17.2609 - val_rmse: 21.2983\n",
            "Epoch 2/12\n",
            "\u001b[1m124/124\u001b[0m \u001b[32m━━━━━━━━━━━━━━━━━━━━\u001b[0m\u001b[37m\u001b[0m \u001b[1m33s\u001b[0m 264ms/step - loss: 6.5127 - mae: 1.9901 - rmse: 2.4984 - val_loss: 378.1220 - val_mae: 15.8493 - val_rmse: 19.4454\n",
            "Epoch 3/12\n",
            "\u001b[1m124/124\u001b[0m \u001b[32m━━━━━━━━━━━━━━━━━━━━\u001b[0m\u001b[37m\u001b[0m \u001b[1m41s\u001b[0m 260ms/step - loss: 3.3737 - mae: 1.4915 - rmse: 1.8327 - val_loss: 245.1355 - val_mae: 13.0560 - val_rmse: 15.6568\n",
            "Epoch 4/12\n",
            "\u001b[1m124/124\u001b[0m \u001b[32m━━━━━━━━━━━━━━━━━━━━\u001b[0m\u001b[37m\u001b[0m \u001b[1m32s\u001b[0m 261ms/step - loss: 4.5377 - mae: 1.6250 - rmse: 2.1198 - val_loss: 62.5264 - val_mae: 6.2979 - val_rmse: 7.9074\n",
            "Epoch 5/12\n",
            "\u001b[1m124/124\u001b[0m \u001b[32m━━━━━━━━━━━━━━━━━━━━\u001b[0m\u001b[37m\u001b[0m \u001b[1m41s\u001b[0m 263ms/step - loss: 2.4228 - mae: 1.2467 - rmse: 1.5423 - val_loss: 4.9925 - val_mae: 1.8600 - val_rmse: 2.2344\n",
            "Epoch 6/12\n",
            "\u001b[1m124/124\u001b[0m \u001b[32m━━━━━━━━━━━━━━━━━━━━\u001b[0m\u001b[37m\u001b[0m \u001b[1m32s\u001b[0m 261ms/step - loss: 2.1524 - mae: 1.1637 - rmse: 1.4566 - val_loss: 8.3607 - val_mae: 2.7050 - val_rmse: 2.8915\n",
            "Epoch 7/12\n",
            "\u001b[1m124/124\u001b[0m \u001b[32m━━━━━━━━━━━━━━━━━━━━\u001b[0m\u001b[37m\u001b[0m \u001b[1m41s\u001b[0m 261ms/step - loss: 1.1729 - mae: 0.8711 - rmse: 1.0813 - val_loss: 3.9408 - val_mae: 1.6885 - val_rmse: 1.9851\n",
            "Epoch 8/12\n",
            "\u001b[1m124/124\u001b[0m \u001b[32m━━━━━━━━━━━━━━━━━━━━\u001b[0m\u001b[37m\u001b[0m \u001b[1m33s\u001b[0m 263ms/step - loss: 1.2497 - mae: 0.9181 - rmse: 1.1151 - val_loss: 1.0474 - val_mae: 0.9543 - val_rmse: 1.0234\n",
            "Epoch 9/12\n",
            "\u001b[1m124/124\u001b[0m \u001b[32m━━━━━━━━━━━━━━━━━━━━\u001b[0m\u001b[37m\u001b[0m \u001b[1m33s\u001b[0m 264ms/step - loss: 1.1868 - mae: 0.8711 - rmse: 1.0851 - val_loss: 3.0334 - val_mae: 1.3571 - val_rmse: 1.7417\n",
            "Epoch 10/12\n",
            "\u001b[1m124/124\u001b[0m \u001b[32m━━━━━━━━━━━━━━━━━━━━\u001b[0m\u001b[37m\u001b[0m \u001b[1m41s\u001b[0m 268ms/step - loss: 0.6617 - mae: 0.6498 - rmse: 0.8110 - val_loss: 2.4742 - val_mae: 1.2709 - val_rmse: 1.5729\n",
            "Epoch 11/12\n",
            "\u001b[1m124/124\u001b[0m \u001b[32m━━━━━━━━━━━━━━━━━━━━\u001b[0m\u001b[37m\u001b[0m \u001b[1m32s\u001b[0m 261ms/step - loss: 0.4276 - mae: 0.5276 - rmse: 0.6534 - val_loss: 0.2870 - val_mae: 0.4285 - val_rmse: 0.5357\n",
            "Epoch 12/12\n",
            "\u001b[1m124/124\u001b[0m \u001b[32m━━━━━━━━━━━━━━━━━━━━\u001b[0m\u001b[37m\u001b[0m \u001b[1m33s\u001b[0m 265ms/step - loss: 0.4842 - mae: 0.5398 - rmse: 0.6928 - val_loss: 0.2242 - val_mae: 0.4059 - val_rmse: 0.4735\n"
          ]
        }
      ]
    },
    {
      "cell_type": "code",
      "source": [
        "# ======================\n",
        "# 5. Оценка и визуализация\n",
        "# ======================\n",
        "# Оценка на тестовом наборе\n",
        "test_loss, test_rmse, test_max_error = model.evaluate(test_ds, verbose=0)\n",
        "print(f\"\\nОшибки на тестовом наборе:\")\n",
        "print(f\"RMSE: {test_rmse:.2f} пикселей\")\n",
        "print(f\"Максимальная ошибка: {test_max_error:.2f} пикселей\")\n",
        "\n",
        "# Визуализация обучения\n",
        "plt.figure(figsize=(12, 5))\n",
        "plt.subplot(1, 2, 1)\n",
        "plt.plot(history.history['rmse'], label='Обучающая')\n",
        "plt.plot(history.history['val_rmse'], label='Тестовая')\n",
        "plt.title('RMSE (пиксели)')\n",
        "plt.xlabel('Эпохи')\n",
        "plt.legend()\n",
        "\n",
        "plt.subplot(1, 2, 2)\n",
        "plt.plot(history.history['max_error_px'], label='Обучающая')\n",
        "plt.plot(history.history['val_max_error_px'], label='Тестовая')\n",
        "plt.title('Максимальная ошибка (пиксели)')\n",
        "plt.xlabel('Эпохи')\n",
        "plt.legend()\n",
        "plt.show()"
      ],
      "metadata": {
        "colab": {
          "base_uri": "https://localhost:8080/",
          "height": 587
        },
        "id": "Wzx5Dq4oW85Y",
        "outputId": "7a73dabf-ff9c-4eeb-8629-99adc9b14610"
      },
      "execution_count": 22,
      "outputs": [
        {
          "output_type": "stream",
          "name": "stdout",
          "text": [
            "\n",
            "Ошибки на тестовом наборе:\n",
            "RMSE: 0.48 пикселей\n",
            "Максимальная ошибка: 0.41 пикселей\n"
          ]
        },
        {
          "output_type": "error",
          "ename": "KeyError",
          "evalue": "'max_error_px'",
          "traceback": [
            "\u001b[0;31m---------------------------------------------------------------------------\u001b[0m",
            "\u001b[0;31mKeyError\u001b[0m                                  Traceback (most recent call last)",
            "\u001b[0;32m<ipython-input-22-baae584abf44>\u001b[0m in \u001b[0;36m<cell line: 0>\u001b[0;34m()\u001b[0m\n\u001b[1;32m     18\u001b[0m \u001b[0;34m\u001b[0m\u001b[0m\n\u001b[1;32m     19\u001b[0m \u001b[0mplt\u001b[0m\u001b[0;34m.\u001b[0m\u001b[0msubplot\u001b[0m\u001b[0;34m(\u001b[0m\u001b[0;36m1\u001b[0m\u001b[0;34m,\u001b[0m \u001b[0;36m2\u001b[0m\u001b[0;34m,\u001b[0m \u001b[0;36m2\u001b[0m\u001b[0;34m)\u001b[0m\u001b[0;34m\u001b[0m\u001b[0;34m\u001b[0m\u001b[0m\n\u001b[0;32m---> 20\u001b[0;31m \u001b[0mplt\u001b[0m\u001b[0;34m.\u001b[0m\u001b[0mplot\u001b[0m\u001b[0;34m(\u001b[0m\u001b[0mhistory\u001b[0m\u001b[0;34m.\u001b[0m\u001b[0mhistory\u001b[0m\u001b[0;34m[\u001b[0m\u001b[0;34m'max_error_px'\u001b[0m\u001b[0;34m]\u001b[0m\u001b[0;34m,\u001b[0m \u001b[0mlabel\u001b[0m\u001b[0;34m=\u001b[0m\u001b[0;34m'Обучающая'\u001b[0m\u001b[0;34m)\u001b[0m\u001b[0;34m\u001b[0m\u001b[0;34m\u001b[0m\u001b[0m\n\u001b[0m\u001b[1;32m     21\u001b[0m \u001b[0mplt\u001b[0m\u001b[0;34m.\u001b[0m\u001b[0mplot\u001b[0m\u001b[0;34m(\u001b[0m\u001b[0mhistory\u001b[0m\u001b[0;34m.\u001b[0m\u001b[0mhistory\u001b[0m\u001b[0;34m[\u001b[0m\u001b[0;34m'val_max_error_px'\u001b[0m\u001b[0;34m]\u001b[0m\u001b[0;34m,\u001b[0m \u001b[0mlabel\u001b[0m\u001b[0;34m=\u001b[0m\u001b[0;34m'Валидационная'\u001b[0m\u001b[0;34m)\u001b[0m\u001b[0;34m\u001b[0m\u001b[0;34m\u001b[0m\u001b[0m\n\u001b[1;32m     22\u001b[0m \u001b[0mplt\u001b[0m\u001b[0;34m.\u001b[0m\u001b[0mtitle\u001b[0m\u001b[0;34m(\u001b[0m\u001b[0;34m'Максимальная ошибка (пиксели)'\u001b[0m\u001b[0;34m)\u001b[0m\u001b[0;34m\u001b[0m\u001b[0;34m\u001b[0m\u001b[0m\n",
            "\u001b[0;31mKeyError\u001b[0m: 'max_error_px'"
          ]
        },
        {
          "output_type": "display_data",
          "data": {
            "text/plain": [
              "<Figure size 1200x500 with 2 Axes>"
            ],
            "image/png": "[encoded data removed]"
          },
          "metadata": {}
        }
      ]
    },
    {
      "cell_type": "code",
      "execution_count": 23,
      "metadata": {
        "colab": {
          "base_uri": "https://localhost:8080/",
          "height": 689
        },
        "id": "g2PYWk5jWBtS",
        "outputId": "e88bafe0-b39b-47b6-b202-9e07cad889cf"
      },
      "outputs": [
        {
          "output_type": "stream",
          "name": "stdout",
          "text": [
            "\u001b[1m1/1\u001b[0m \u001b[32m━━━━━━━━━━━━━━━━━━━━\u001b[0m\u001b[37m\u001b[0m \u001b[1m4s\u001b[0m 4s/step\n"
          ]
        },
        {
          "output_type": "display_data",
          "data": {
            "text/plain": [
              "<Figure size 800x800 with 1 Axes>"
            ],
            "image/png": "[encoded data removed]"
          },
          "metadata": {}
        }
      ],
      "source": [
        "# ======================\n",
        "# 6. Визуализация предсказания\n",
        "# ======================\n",
        "# Берем одно изображение из тестового набора\n",
        "sample_image, true_center = next(iter(test_ds))\n",
        "predicted_center = model.predict(sample_image[0:1])[0]\n",
        "\n",
        "# Отображение результата\n",
        "plt.figure(figsize=(8, 8))\n",
        "plt.imshow(sample_image[0].numpy().squeeze(), cmap='gray')\n",
        "plt.scatter(true_center[0][1], true_center[0][0], c='blue', s=10, label='Истинный центр')\n",
        "plt.scatter(predicted_center[1], predicted_center[0], c='red', s=10, label='Предсказанный центр')\n",
        "plt.title(f\"Ошибка: {np.linalg.norm(true_center[0] - predicted_center):.2f} пикселей\")\n",
        "plt.legend()\n",
        "plt.show()"
      ]
    },
    {
      "cell_type": "code",
      "source": [],
      "metadata": {
        "id": "1h6HnydTkERz"
      },
      "execution_count": null,
      "outputs": []
    }
  ]
}