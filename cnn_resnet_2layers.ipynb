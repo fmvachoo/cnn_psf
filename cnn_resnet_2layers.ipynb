{
  "nbformat": 4,
  "nbformat_minor": 0,
  "metadata": {
    "colab": {
      "provenance": [],
      "gpuType": "T4",
      "toc_visible": true,
      "authorship_tag": "ABX9TyNdpwsXP3TtkFZmUa4VbhRj",
      "include_colab_link": true
    },
    "kernelspec": {
      "name": "python3",
      "display_name": "Python 3"
    },
    "language_info": {
      "name": "python"
    },
    "accelerator": "GPU"
  },
  "cells": [
    {
      "cell_type": "markdown",
      "metadata": {
        "id": "view-in-github",
        "colab_type": "text"
      },
      "source": [
        "<a href=\"https://colab.research.google.com/github/hero-hub/cnn_psf/blob/main/cnn_resnet_2layers.ipynb\" target=\"_parent\"><img src=\"https://colab.research.google.com/assets/colab-badge.svg\" alt=\"Open In Colab\"/></a>"
      ]
    },
    {
      "cell_type": "markdown",
      "source": [
        "# Импорт библиотек"
      ],
      "metadata": {
        "id": "kiO2S2QU6NAv"
      }
    },
    {
      "cell_type": "code",
      "source": [
        "import os\n",
        "import tensorflow as tf\n",
        "from tensorflow.keras.applications import ResNet50\n",
        "from tensorflow.keras import layers, models\n",
        "from PIL import Image\n",
        "import numpy as np\n",
        "import matplotlib.pyplot as plt\n",
        "from sklearn.model_selection import train_test_split\n",
        "import zipfile\n",
        "from google.colab import drive\n",
        "import sys"
      ],
      "metadata": {
        "id": "_N_4xPrBWuTd"
      },
      "execution_count": 1,
      "outputs": []
    },
    {
      "cell_type": "markdown",
      "source": [
        "# Загрузка и подготовка данных\n"
      ],
      "metadata": {
        "id": "f5oNXe706Ykc"
      }
    },
    {
      "cell_type": "code",
      "source": [
        "# Подключение Google Drive\n",
        "drive.mount('/content/drive')\n",
        "\n",
        "# Путь к папке, где находится library_help_tools.py\n",
        "sys.path.insert(0, '/content/drive/My Drive/Colab_Notebooks/scripts')\n",
        "\n",
        "print(sys.path)\n",
        "\n",
        "try:\n",
        "    import library_help_tools as lht\n",
        "    print(\"Модуль успешно импортирован!\")\n",
        "except ModuleNotFoundError as e:\n",
        "    print(f\"Ошибка импорта: {e}\")\n",
        "\n",
        "# Максимальная абсолютная ошибка\n",
        "def max_error(y_true, y_pred):\n",
        "    y_true = tf.cast(y_true, tf.float32)  # Приводим y_true к float32\n",
        "    y_pred = tf.cast(y_pred, tf.float32)  # Приводим y_pred к float32\n",
        "    return tf.reduce_max(tf.abs(y_true - y_pred))"
      ],
      "metadata": {
        "colab": {
          "base_uri": "https://localhost:8080/"
        },
        "id": "uUS-gzyYZQxQ",
        "outputId": "8efe73f4-4702-47a6-b042-20f7f7eaa656"
      },
      "execution_count": 2,
      "outputs": [
        {
          "output_type": "stream",
          "name": "stdout",
          "text": [
            "Mounted at /content/drive\n",
            "['/content/drive/My Drive/Colab_Notebooks/scripts', '/content', '/env/python', '/usr/lib/python311.zip', '/usr/lib/python3.11', '/usr/lib/python3.11/lib-dynload', '', '/usr/local/lib/python3.11/dist-packages', '/usr/lib/python3/dist-packages', '/usr/local/lib/python3.11/dist-packages/IPython/extensions', '/usr/local/lib/python3.11/dist-packages/setuptools/_vendor', '/root/.ipython']\n",
            "Модуль успешно импортирован!\n"
          ]
        }
      ]
    },
    {
      "cell_type": "code",
      "source": [
        "dir_test = '../data/PSF_PNG/PSF_Test36/'\n",
        "dir_ast3_spher35 = '../data/PSF_PNG/PSF_Ast3_Spher35/'\n",
        "zip_file = '/content/drive/My Drive/Colab_Notebooks/img256_7987.zip'\n",
        "z = zipfile.ZipFile(zip_file, 'r')\n",
        "z.extractall()\n",
        "print(os.listdir())\n",
        "\n",
        "def load_images_from_directory(dir_read):\n",
        "    images = []  # Список для хранения изображений\n",
        "    list_file = os.listdir(dir_read)  # Получаем список файлов в директории\n",
        "\n",
        "    for cur_file in list_file:\n",
        "        cur_file_path = os.path.join(dir_read, cur_file)\n",
        "        try:\n",
        "            img = Image.open(cur_file_path)\n",
        "            images.append(img)\n",
        "        except Exception as e:\n",
        "            print(f\"Ошибка при чтении файла {cur_file_path}: {e}\")\n",
        "\n",
        "    print(f'Количество загруженных изображений - {len(images)}')\n",
        "    return images\n",
        "\n",
        "zip_directory = 'img256_7987/img256_7987/'\n",
        "images = load_images_from_directory(zip_directory)"
      ],
      "metadata": {
        "colab": {
          "base_uri": "https://localhost:8080/"
        },
        "id": "Wtd-mnK2ZV4q",
        "outputId": "be0dc2cc-a136-4a3c-cabd-a819a2270ece"
      },
      "execution_count": 3,
      "outputs": [
        {
          "output_type": "stream",
          "name": "stdout",
          "text": [
            "['.config', 'drive', 'img256_7987', 'sample_data']\n",
            "Количество загруженных изображений - 7987\n"
          ]
        }
      ]
    },
    {
      "cell_type": "code",
      "source": [
        "# Создаем словарь с параметрами\n",
        "GVD = dict(\n",
        "    DATA_DIR = zip_directory,\n",
        "    FILE_FORMAT = \".png\",\n",
        "    IMG_SIZE = 256,\n",
        "    TEST_SPLIT = 0.2,\n",
        "    VALIDATION_SPLIT = 0.2,\n",
        "    SEED = 123\n",
        ")"
      ],
      "metadata": {
        "id": "2oi9Zf9kZXhF"
      },
      "execution_count": 4,
      "outputs": []
    },
    {
      "cell_type": "code",
      "source": [
        "# Загрузка данных\n",
        "ts_images, ts_labels = lht.load_data(lht.list_files(GVD['DATA_DIR'], GVD['FILE_FORMAT']))\n",
        "\n",
        "# Преобразование в numpy массивы, если это еще не сделано\n",
        "ts_images = np.array(ts_images)\n",
        "ts_labels = np.array(ts_labels)\n",
        "\n",
        "# Разделение данных\n",
        "X_train, X_test, y_train, y_test = train_test_split(\n",
        "    ts_images, ts_labels, test_size=0.2, random_state=42, shuffle=True)\n",
        "\n",
        "X_train, X_val, y_train, y_val = train_test_split(\n",
        "    X_train, y_train, test_size=0.2, random_state=42)\n",
        "\n",
        "# Преобразование в tf.data.Dataset\n",
        "train_ds = tf.data.Dataset.from_tensor_slices((X_train, y_train))\n",
        "train_ds = train_ds.shuffle(buffer_size=1024).batch(32)\n",
        "\n",
        "val_ds = tf.data.Dataset.from_tensor_slices((X_val, y_val)).batch(32)\n",
        "test_ds = tf.data.Dataset.from_tensor_slices((X_test, y_test)).batch(32)"
      ],
      "metadata": {
        "collapsed": true,
        "id": "BEoIf--hWyW5"
      },
      "execution_count": 5,
      "outputs": []
    },
    {
      "cell_type": "markdown",
      "source": [
        "# Создание модели"
      ],
      "metadata": {
        "id": "v0I_cF1t_Ger"
      }
    },
    {
      "cell_type": "code",
      "source": [
        "import tensorflow as tf\n",
        "from tensorflow.keras import layers, models\n",
        "from tensorflow.keras.applications import ResNet50\n",
        "\n",
        "# Входной слой\n",
        "inputs = layers.Input(shape=(256, 256, 1))  #256x256 и ЧБ (1 канал)\n",
        "\n",
        "# Предварительные сверточные слои\n",
        "x = layers.Conv2D(64, 3, activation='gelu', padding='same')(inputs)\n",
        "x = layers.Conv2D(128, 5, activation='gelu', padding='same')(x)\n",
        "\n",
        "# ResNet50\n",
        "resnet = ResNet50(\n",
        "    include_top=False,\n",
        "    weights=None,\n",
        "    input_tensor=x,  # Передаем выход предыдущего слоя\n",
        "    pooling='avg'  # Глобальное усреднение\n",
        ")\n",
        "\n",
        "# Выходной слой\n",
        "outputs = layers.Dense(2, activation='linear')(resnet.output)\n",
        "\n",
        "# Создание модели\n",
        "model = models.Model(inputs=inputs, outputs=outputs)\n",
        "\n",
        "# Компиляция модели\n",
        "model.compile(\n",
        "    optimizer='adam',\n",
        "    loss='mse',\n",
        "    metrics=[\n",
        "        tf.keras.metrics.RootMeanSquaredError(name='rmse'),\n",
        "        max_error\n",
        "    ]\n",
        ")"
      ],
      "metadata": {
        "id": "oLrpnkl-W2iW"
      },
      "execution_count": 6,
      "outputs": []
    },
    {
      "cell_type": "markdown",
      "source": [
        "# Обучение модели"
      ],
      "metadata": {
        "id": "D3jdqOtc7Xwo"
      }
    },
    {
      "cell_type": "code",
      "source": [
        "history = model.fit(\n",
        "    train_ds,\n",
        "    validation_data=val_ds,\n",
        "    epochs=16,\n",
        "    callbacks=[\n",
        "        tf.keras.callbacks.EarlyStopping(patience=5, monitor='val_rmse')\n",
        "    ]\n",
        ")"
      ],
      "metadata": {
        "colab": {
          "base_uri": "https://localhost:8080/"
        },
        "collapsed": true,
        "id": "LFaeDti8W5RN",
        "outputId": "75a0568b-27ca-4871-fd80-369261d235ad"
      },
      "execution_count": 7,
      "outputs": [
        {
          "output_type": "stream",
          "name": "stdout",
          "text": [
            "Epoch 1/16\n",
            "\u001b[1m160/160\u001b[0m \u001b[32m━━━━━━━━━━━━━━━━━━━━\u001b[0m\u001b[37m\u001b[0m \u001b[1m324s\u001b[0m 1s/step - loss: 3407.3181 - max_error: 57.0400 - rmse: 53.5896 - val_loss: 1806.8496 - val_max_error: 76.2169 - val_rmse: 42.5071\n",
            "Epoch 2/16\n",
            "\u001b[1m160/160\u001b[0m \u001b[32m━━━━━━━━━━━━━━━━━━━━\u001b[0m\u001b[37m\u001b[0m \u001b[1m152s\u001b[0m 948ms/step - loss: 6.0928 - max_error: 4.8420 - rmse: 2.4602 - val_loss: 362.4197 - val_max_error: 42.4033 - val_rmse: 19.0373\n",
            "Epoch 3/16\n",
            "\u001b[1m160/160\u001b[0m \u001b[32m━━━━━━━━━━━━━━━━━━━━\u001b[0m\u001b[37m\u001b[0m \u001b[1m151s\u001b[0m 945ms/step - loss: 5.2778 - max_error: 4.0288 - rmse: 2.2809 - val_loss: 121.3323 - val_max_error: 20.3712 - val_rmse: 11.0151\n",
            "Epoch 4/16\n",
            "\u001b[1m160/160\u001b[0m \u001b[32m━━━━━━━━━━━━━━━━━━━━\u001b[0m\u001b[37m\u001b[0m \u001b[1m152s\u001b[0m 947ms/step - loss: 4.3163 - max_error: 3.4949 - rmse: 2.0739 - val_loss: 9.1940 - val_max_error: 5.0008 - val_rmse: 3.0322\n",
            "Epoch 5/16\n",
            "\u001b[1m160/160\u001b[0m \u001b[32m━━━━━━━━━━━━━━━━━━━━\u001b[0m\u001b[37m\u001b[0m \u001b[1m152s\u001b[0m 949ms/step - loss: 3.0756 - max_error: 3.0910 - rmse: 1.7498 - val_loss: 9.5159 - val_max_error: 5.2828 - val_rmse: 3.0848\n",
            "Epoch 6/16\n",
            "\u001b[1m160/160\u001b[0m \u001b[32m━━━━━━━━━━━━━━━━━━━━\u001b[0m\u001b[37m\u001b[0m \u001b[1m202s\u001b[0m 952ms/step - loss: 2.7878 - max_error: 2.9956 - rmse: 1.6679 - val_loss: 12.5995 - val_max_error: 6.9343 - val_rmse: 3.5496\n",
            "Epoch 7/16\n",
            "\u001b[1m160/160\u001b[0m \u001b[32m━━━━━━━━━━━━━━━━━━━━\u001b[0m\u001b[37m\u001b[0m \u001b[1m151s\u001b[0m 943ms/step - loss: 2.2523 - max_error: 2.6154 - rmse: 1.4988 - val_loss: 18.1116 - val_max_error: 6.8107 - val_rmse: 4.2558\n",
            "Epoch 8/16\n",
            "\u001b[1m160/160\u001b[0m \u001b[32m━━━━━━━━━━━━━━━━━━━━\u001b[0m\u001b[37m\u001b[0m \u001b[1m152s\u001b[0m 947ms/step - loss: 2.1142 - max_error: 2.4482 - rmse: 1.4504 - val_loss: 1466831.3750 - val_max_error: 1479.3557 - val_rmse: 1211.1282\n",
            "Epoch 9/16\n",
            "\u001b[1m160/160\u001b[0m \u001b[32m━━━━━━━━━━━━━━━━━━━━\u001b[0m\u001b[37m\u001b[0m \u001b[1m203s\u001b[0m 951ms/step - loss: 3.3753 - max_error: 3.5287 - rmse: 1.8316 - val_loss: 1.2370 - val_max_error: 2.0573 - val_rmse: 1.1122\n",
            "Epoch 10/16\n",
            "\u001b[1m160/160\u001b[0m \u001b[32m━━━━━━━━━━━━━━━━━━━━\u001b[0m\u001b[37m\u001b[0m \u001b[1m151s\u001b[0m 944ms/step - loss: 2.2907 - max_error: 2.5554 - rmse: 1.5050 - val_loss: 2.5307 - val_max_error: 3.7108 - val_rmse: 1.5908\n",
            "Epoch 11/16\n",
            "\u001b[1m160/160\u001b[0m \u001b[32m━━━━━━━━━━━━━━━━━━━━\u001b[0m\u001b[37m\u001b[0m \u001b[1m152s\u001b[0m 948ms/step - loss: 1.7697 - max_error: 2.3461 - rmse: 1.3210 - val_loss: 1.5526 - val_max_error: 2.4183 - val_rmse: 1.2460\n",
            "Epoch 12/16\n",
            "\u001b[1m160/160\u001b[0m \u001b[32m━━━━━━━━━━━━━━━━━━━━\u001b[0m\u001b[37m\u001b[0m \u001b[1m151s\u001b[0m 946ms/step - loss: 1.4600 - max_error: 2.2219 - rmse: 1.2050 - val_loss: 1.3109 - val_max_error: 2.5878 - val_rmse: 1.1449\n",
            "Epoch 13/16\n",
            "\u001b[1m160/160\u001b[0m \u001b[32m━━━━━━━━━━━━━━━━━━━━\u001b[0m\u001b[37m\u001b[0m \u001b[1m203s\u001b[0m 950ms/step - loss: 1.4219 - max_error: 2.0679 - rmse: 1.1898 - val_loss: 0.7197 - val_max_error: 1.8129 - val_rmse: 0.8484\n",
            "Epoch 14/16\n",
            "\u001b[1m160/160\u001b[0m \u001b[32m━━━━━━━━━━━━━━━━━━━━\u001b[0m\u001b[37m\u001b[0m \u001b[1m151s\u001b[0m 943ms/step - loss: 0.9090 - max_error: 1.6719 - rmse: 0.9503 - val_loss: 1.0166 - val_max_error: 2.3241 - val_rmse: 1.0083\n",
            "Epoch 15/16\n",
            "\u001b[1m160/160\u001b[0m \u001b[32m━━━━━━━━━━━━━━━━━━━━\u001b[0m\u001b[37m\u001b[0m \u001b[1m152s\u001b[0m 948ms/step - loss: 1.6588 - max_error: 2.2222 - rmse: 1.2857 - val_loss: 1.2303 - val_max_error: 2.0801 - val_rmse: 1.1092\n",
            "Epoch 16/16\n",
            "\u001b[1m160/160\u001b[0m \u001b[32m━━━━━━━━━━━━━━━━━━━━\u001b[0m\u001b[37m\u001b[0m \u001b[1m152s\u001b[0m 948ms/step - loss: 0.7241 - max_error: 1.5314 - rmse: 0.8469 - val_loss: 2.8772 - val_max_error: 2.6958 - val_rmse: 1.6962\n"
          ]
        }
      ]
    },
    {
      "cell_type": "markdown",
      "source": [
        "# Оценка и визуализация"
      ],
      "metadata": {
        "id": "oOp09cXw6jUZ"
      }
    },
    {
      "cell_type": "code",
      "source": [
        "# Оценка на тестовом наборе\n",
        "test_loss, test_rmse, test_max_error = model.evaluate(test_ds, verbose=0)\n",
        "print(f\"\\nОшибки на тестовом наборе:\")\n",
        "print(f\"RMSE: {test_rmse:.2f} пикселей\")\n",
        "print(f\"Максимальная ошибка: {test_max_error:.2f} пикселей\")\n",
        "\n",
        "# Визуализация обучения\n",
        "plt.figure(figsize=(12, 5))\n",
        "plt.subplot(1, 2, 1)\n",
        "plt.plot(history.history['rmse'], label='Обучающая')\n",
        "plt.plot(history.history['val_rmse'], label='Тестовая')\n",
        "plt.title('RMSE (пиксели)')\n",
        "plt.xlabel('Эпохи')\n",
        "plt.legend()\n",
        "\n",
        "plt.subplot(1, 2, 2)\n",
        "plt.plot(history.history['max_error'], label='Обучающая')\n",
        "plt.plot(history.history['val_max_error'], label='Тестовая')\n",
        "plt.title('Максимальная ошибка (пиксели)')\n",
        "plt.xlabel('Эпохи')\n",
        "plt.legend()\n",
        "plt.show()"
      ],
      "metadata": {
        "colab": {
          "base_uri": "https://localhost:8080/",
          "height": 561
        },
        "id": "Wzx5Dq4oW85Y",
        "outputId": "93e37595-61d0-4a99-aa3f-e59fcfe61ba4"
      },
      "execution_count": 8,
      "outputs": [
        {
          "output_type": "stream",
          "name": "stdout",
          "text": [
            "\n",
            "Ошибки на тестовом наборе:\n",
            "RMSE: 1.69 пикселей\n",
            "Максимальная ошибка: 2.66 пикселей\n"
          ]
        },
        {
          "output_type": "display_data",
          "data": {
            "text/plain": [
              "<Figure size 1200x500 with 2 Axes>"
            ],
            "image/png": "[encoded data removed]"
          },
          "metadata": {}
        }
      ]
    },
    {
      "cell_type": "markdown",
      "source": [
        "# Предсказание на случайном изображении из датасета"
      ],
      "metadata": {
        "id": "q6xX35Au6uyk"
      }
    },
    {
      "cell_type": "code",
      "execution_count": 9,
      "metadata": {
        "colab": {
          "base_uri": "https://localhost:8080/",
          "height": 717
        },
        "id": "g2PYWk5jWBtS",
        "outputId": "f1dde1d3-52d0-4a67-fd6c-4c967f8523ae"
      },
      "outputs": [
        {
          "output_type": "stream",
          "name": "stdout",
          "text": [
            "\u001b[1m1/1\u001b[0m \u001b[32m━━━━━━━━━━━━━━━━━━━━\u001b[0m\u001b[37m\u001b[0m \u001b[1m5s\u001b[0m 5s/step\n"
          ]
        },
        {
          "output_type": "display_data",
          "data": {
            "text/plain": [
              "<Figure size 800x800 with 1 Axes>"
            ],
            "image/png": "[encoded data removed]"
          },
          "metadata": {}
        }
      ],
      "source": [
        "import random\n",
        "\n",
        "# Тестовый датасет в виде списка\n",
        "test_images = list(test_ds.unbatch().as_numpy_iterator())\n",
        "\n",
        "# Выбираем случайное изображение\n",
        "random_sample = random.choice(test_images)\n",
        "sample_image = random_sample[0][np.newaxis, ...]  # Добавляем batch-размерность\n",
        "true_center = random_sample[1][np.newaxis, ...]  # Добавляем batch-размерность\n",
        "\n",
        "# Получаем предсказание\n",
        "predicted_center = model.predict(sample_image)[0]\n",
        "\n",
        "# Отображение результата\n",
        "plt.figure(figsize=(8, 8))\n",
        "plt.imshow(sample_image[0].squeeze(), cmap='gray')\n",
        "plt.scatter(true_center[0][1], true_center[0][0], c='blue', s=50, label='Истинный центр')\n",
        "plt.scatter(predicted_center[1], predicted_center[0], c='red', s=50, label='Предсказанный центр')\n",
        "plt.title(f\"Ошибка: {np.linalg.norm(true_center[0] - predicted_center):.2f} пикселей\")\n",
        "plt.legend()\n",
        "plt.show()"
      ]
    },
    {
      "cell_type": "markdown",
      "source": [
        "# Сохранение модели"
      ],
      "metadata": {
        "id": "mI_6TWse67Gj"
      }
    },
    {
      "cell_type": "code",
      "source": [
        "#model_path = '/content/drive/My Drive/Colab_Notebooks/psf_center_model.h5'\n",
        "#model.save(model_path)\n",
        "\n",
        "# Сохранение истории обучения\n",
        "#import pickle\n",
        "#history_path = '/content/drive/My Drive/Colab_Notebooks/history.pkl'\n",
        "#with open(history_path, 'wb') as f:\n",
        "#    pickle.dump(history.history, f)"
      ],
      "metadata": {
        "id": "1h6HnydTkERz"
      },
      "execution_count": null,
      "outputs": []
    }
  ]
}